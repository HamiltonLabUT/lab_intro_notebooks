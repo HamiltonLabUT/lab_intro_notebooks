{
 "cells": [
  {
   "cell_type": "markdown",
   "metadata": {},
   "source": [
    "## 01_intro_jupyter_notebook.ipynb\n",
    "**This notebook is written for people that have no experience with Jupyter Notebook. If you know how to read and write Juptyer notebooks, you can go to the next notebook in this repo.**"
   ]
  },
  {
   "cell_type": "markdown",
   "metadata": {},
   "source": [
    "#### What is Jupyter Notebook?\n",
    "\n",
    "Congratulations! If you are reading this, then that means you know something about either Jupyter Notebook, GitHub, or both. Because, there are only two ways you could be viewing this file:\n",
    "\n",
    "1. You are viewing this notebook online in the Hamilton Lab GitHub repository.\n",
    "2. You have cloned this repo to your machine and launched Jupyter Notebook to read it.\n",
    "\n",
    "_Or you are viewing it in a text editor, which is just insanity. Please stop._\n",
    "\n",
    "Something feels a little strange about writing a tutorial for Jupyter Notebook in a Jupyter notebook, but here we are. I remember not knowing what a Jupyter notebook was until using it, but I had always thought of it as some kind of note-taking application. The truth, as it turns out, was not far from my guess! Jupyter Notebook is software that lets you run and analyze code in an interactive, cell-based system (as opposed to a command-line interface).\n",
    "\n",
    "If you are an acronym person, it's an example of an [Interactive Development Environment (IDE)](https://en.wikipedia.org/wiki/Integrated_development_environment). TL;DR: IDEs is Microsoft Word but for programmers -- a tool that makes writing code easier. Most IDEs are written for software developers, but Jupyter is written with researchers and data science in mind. This makes it not only a nifty tool for writing code, but also a cool educational tool. People that read (well-written) notebooks should understand the code within them and be able to reproduce it themselves."
   ]
  },
  {
   "cell_type": "markdown",
   "metadata": {},
   "source": [
    "#### How do I use it?\n",
    "\n",
    "Jupyter takes a programming language as a backend (usually Python, but you can configure it to use other languages; for example, [R](https://github.com/HamiltonLabUT/onsetProd/blob/master/results/stats/spkr_mic_el_sh_lmem.ipynb)) then uses your web browser as a frontend. The reason the URL is `localhost:8000` is because Jupyter is running out of a private server on your local machine. It's also possible to connect Jupyter to the Internet for remote working if you know a thing or two about networking.\n",
    "\n",
    "That means in order to edit a Jupyter notebook, you need to launch your own local server. To do this, open up a Terminal and type `jupyter notebook` -- a browser window will automatically open. From this home page, you can navigate as you would in a typical file browser in the Files tab. In the Running tab, you can see the currently opened notebooks. If you using a lot of notebooks and don't close them out, it can hog your computer's memory so this is a convenient tab to make sure you aren't doing that. And lastly, to create a new notebook, just hit New in the top right and pick the programming language you would like to use (most likely Python 3). "
   ]
  },
  {
   "cell_type": "markdown",
   "metadata": {},
   "source": [
    "#### Creating a notebook\n",
    "Jupyter notebooks use cells. Each cell, denoted by `In [ ]:` on the left, is a section of code that you can execute. However, it will share variables with other cells. Having the code split into cells is nice for running things section-by-section to see how they work. You can write code in these cells the same way you would in a text editor, command line, or any other IDE. To execute your code, hit \"Run\" in the top bar or press `Shift + Enter`. Practice that by executing the code in the cell below:"
   ]
  },
  {
   "cell_type": "code",
   "execution_count": 1,
   "metadata": {},
   "outputs": [
    {
     "data": {
      "text/plain": [
       "2"
      ]
     },
     "execution_count": 1,
     "metadata": {},
     "output_type": "execute_result"
    }
   ],
   "source": [
    "1 + 1"
   ]
  },
  {
   "cell_type": "markdown",
   "metadata": {},
   "source": [
    "The output for your code will appear below the cell. The number within the brackets is to keep track of the order you ran your cells in, another nice debugging tool. Some other tips and tricks for cells:\n",
    "\n",
    "* You can delete cells using \"Edit -> Delete Cells\" or by clicking the scissors icon in the top bar.\n",
    "* You can change the order of cells using the up and down icons in the top bar.\n",
    "* Create a new cell using the plus icon in the top bar. Or, if you run the bottom-most cell of a notebook, it will create an empty one below that.\n",
    "* Find and Replace by default is on a within-cell basis. That means you can pretty quickly swap variables from cell-to-cell using Find and Replace, which has saved me a lot of typing in the past.\n",
    "* There are many, _many_ keyboard shortcuts in Jupyter Notebook. I suggest reading about them (in the Help dropdown menu) if you are someone who doesn't like to use your mouse."
   ]
  },
  {
   "cell_type": "markdown",
   "metadata": {},
   "source": [
    "Cells also don't have to be code -- they can be Markdown. Anybody who has used Tumblr or Wikipedia will be familiar with Markdown, but if you haven't, it's a simple text editing language found all over the internet. The text formatting rules for Markdown can be found (here)[https://sqlbak.com/blog/wp-content/uploads/2020/12/Jupyter-Notebook-Markdown-Cheatsheet2.pdf]. \n",
    "\n",
    "Also, if you want to see how I did the Markdown in this notebook, just double click one of the Markdown cells to see what it looks like in its \"raw\" form. Use \"Run\" or `Shift + Enter` in the same way you'd execute code to turn it back into formatted text."
   ]
  },
  {
   "cell_type": "markdown",
   "metadata": {},
   "source": [
    "#### The Kernel\n",
    "The kernel is the thing behind the scenes letting you execute code. All of the variables you use are stored in your kernel as well as other global stuff like imports. Think of it like typing `python` into Terminal -- all your variables will keep their references within that session until you `exit()`. The Jupyter kernel works the same way, saving variables until you restart it. Let's explore the \"Kernel\" menu at the top:\n",
    "* \"Interrupt\": useful if you accidentally ran some loop that is going to eat up all your computer's memory/CPU. Fun fact, one time I created a loop that was too long and accidentally filled every byte of storage on my computer, bringing it to a crawl. I could have prevented this by interrupting my kernel.\n",
    "* \"Restart and...\": Three options that do similar things. Just \"Restart\" will reset the kernel, wiping all your variables from memory. \"Restart and Clear Output\" will do this but also remove all outputs from code cells. \"Restart and Run All\" clears the output, then re-executes all the code cells in order from top to bottom.\n",
    "* If you have set up Jupyter to use multiple backends, you can change them in the \"Change kernel\" menu. This probably shouldn't come up, but I've seen this be an issue with Anaconda before (more on Anaconda in the next notebook). "
   ]
  },
  {
   "cell_type": "markdown",
   "metadata": {},
   "source": [
    "#### Installing Jupyter Notebook\n",
    "There are a lot of ways to do this, but in the lab we use Anaconda. There's a really good installation guide for Anaconda, just use that: https://docs.continuum.io/anaconda/install/"
   ]
  },
  {
   "cell_type": "markdown",
   "metadata": {},
   "source": [
    "Okay, I think that's pretty much everything for Jupyter! Hopefully you will find it to be a useful research and programming tool during your time in the Hamilton Lab.\n",
    "\n",
    "-Garret Kurteff, Feb 2021"
   ]
  }
 ],
 "metadata": {
  "kernelspec": {
   "display_name": "Python 3",
   "language": "python",
   "name": "python3"
  },
  "language_info": {
   "codemirror_mode": {
    "name": "ipython",
    "version": 3
   },
   "file_extension": ".py",
   "mimetype": "text/x-python",
   "name": "python",
   "nbconvert_exporter": "python",
   "pygments_lexer": "ipython3",
   "version": "3.8.5"
  }
 },
 "nbformat": 4,
 "nbformat_minor": 4
}
