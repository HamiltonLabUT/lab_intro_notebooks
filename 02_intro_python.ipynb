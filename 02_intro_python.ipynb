{
 "cells": [
  {
   "cell_type": "markdown",
   "metadata": {},
   "source": [
    "## Great!\n",
    "Now that we have Jupyter Notebook installed through Anaconda (if you haven't done this, see `01_intro_jupyter_notebook.ipynb`), we can go over some Python fundamentals and specific data structures that are commonly used by the lab.\n",
    "\n",
    "I will be labeling each topic with markdown cells, so if you are following along at home and already know Python/numpy/etc basics, you can skip that section."
   ]
  },
  {
   "cell_type": "markdown",
   "metadata": {},
   "source": [
    "## Python: the absolute basics\n",
    "\n",
    "Python is an object-oriented programming language favored by many computer science students, intro-level programmers, academics, and data scientists. It is available on basically every computer ever. If you have literally zero experience with any programming languages, I would suggest doing some Python tutorials. When I was an undergraduate, I used [Learn Python the Hard Way](https://learncodethehardway.org/python/) but it's not free anymore :( ... so I would look for a course on CodeCademy or Udemy instead. I'll go over the basics below, but I am not an experienced code teacher, so I would really suggest looking for a course or something if you have no experience at all."
   ]
  },
  {
   "cell_type": "markdown",
   "metadata": {},
   "source": [
    "#### Comments\n",
    "Essentially, Python can be thought of as a really, really fancy calculator. Like a graphing calculator but even more cool. The first thing we are going to learn (because this makes this notebook the easiest to write) are **comments**. Comments, denoted with `#`, make it so everything after the `#` won't run until you start a new line. This allows you to put simple English in between your lines of code to help other people read it. This is a Markdown cell, but the below cells in this section will be code cells with comments. To understand the code, read the comments and they will help!"
   ]
  },
  {
   "cell_type": "code",
   "execution_count": 1,
   "metadata": {},
   "outputs": [
    {
     "data": {
      "text/plain": [
       "2"
      ]
     },
     "execution_count": 1,
     "metadata": {},
     "output_type": "execute_result"
    }
   ],
   "source": [
    "# This is a comment :)\n",
    "# Ok so like I said, Python is just a fancy calculator. It can do basic calculator stuff like this:\n",
    "1 + 1 # This line is our input and our output will be displayed below"
   ]
  },
  {
   "cell_type": "markdown",
   "metadata": {},
   "source": [
    "#### Variables"
   ]
  },
  {
   "cell_type": "code",
   "execution_count": 2,
   "metadata": {},
   "outputs": [
    {
     "data": {
      "text/plain": [
       "2"
      ]
     },
     "execution_count": 2,
     "metadata": {},
     "output_type": "execute_result"
    }
   ],
   "source": [
    "# Pretty sick, right? You can do math with Python.\n",
    "# You can also assign variables and then do math. Let's set the variable x to 1.\n",
    "x = 1\n",
    "x + x"
   ]
  },
  {
   "cell_type": "code",
   "execution_count": 3,
   "metadata": {},
   "outputs": [
    {
     "data": {
      "text/plain": [
       "3"
      ]
     },
     "execution_count": 3,
     "metadata": {},
     "output_type": "execute_result"
    }
   ],
   "source": [
    "# Variables can have any name you want, and you can change the value of a variable many times.\n",
    "# You can also assign variables a value using already-defined variables.\n",
    "this_is_a_random_variable_name = x + x # = 2\n",
    "this_is_a_random_variable_name + x"
   ]
  },
  {
   "cell_type": "code",
   "execution_count": 4,
   "metadata": {},
   "outputs": [
    {
     "data": {
      "text/plain": [
       "8"
      ]
     },
     "execution_count": 4,
     "metadata": {},
     "output_type": "execute_result"
    }
   ],
   "source": [
    "## Variables can also be reassigned. \n",
    "old_x = x\n",
    "x = 7\n",
    "x + old_x"
   ]
  },
  {
   "cell_type": "markdown",
   "metadata": {},
   "source": [
    "#### Common classes of data structures\n",
    "Turns out you can do more than just adding numbers in Python. Python can manipulate many different types of data. Let's look at some."
   ]
  },
  {
   "cell_type": "code",
   "execution_count": 5,
   "metadata": {},
   "outputs": [
    {
     "data": {
      "text/plain": [
       "int"
      ]
     },
     "execution_count": 5,
     "metadata": {},
     "output_type": "execute_result"
    }
   ],
   "source": [
    "# First off, to check the class of data, you can use type().\n",
    "type(9)\n",
    "# It can be important to know the class of your data, because some code will only work if you give it the right class of data."
   ]
  },
  {
   "cell_type": "code",
   "execution_count": 6,
   "metadata": {},
   "outputs": [
    {
     "data": {
      "text/plain": [
       "float"
      ]
     },
     "execution_count": 6,
     "metadata": {},
     "output_type": "execute_result"
    }
   ],
   "source": [
    "# INTEGERS (int) and FLOATS\n",
    "# As demonstrated above, whole numbers are integers.\n",
    "# Not much else to say here. But, if you divide an integer into a non-whole number, it becomes a FLOAT.\n",
    "type(9/2)"
   ]
  },
  {
   "cell_type": "code",
   "execution_count": 7,
   "metadata": {},
   "outputs": [
    {
     "data": {
      "text/plain": [
       "2.0"
      ]
     },
     "execution_count": 7,
     "metadata": {},
     "output_type": "execute_result"
    }
   ],
   "source": [
    "# INTEGERS and FLOATS can be added/subtracted/whatever'd together too.\n",
    "x = 9\n",
    "y = 4.5\n",
    "x/y"
   ]
  },
  {
   "cell_type": "code",
   "execution_count": 8,
   "metadata": {},
   "outputs": [
    {
     "data": {
      "text/plain": [
       "2"
      ]
     },
     "execution_count": 8,
     "metadata": {},
     "output_type": "execute_result"
    }
   ],
   "source": [
    "# If you want to switch between INTEGER and FLOAT, you can do that using parentheses.\n",
    "int(x/y)"
   ]
  },
  {
   "cell_type": "code",
   "execution_count": 9,
   "metadata": {},
   "outputs": [
    {
     "ename": "TypeError",
     "evalue": "can only concatenate str (not \"int\") to str",
     "output_type": "error",
     "traceback": [
      "\u001b[1;31m---------------------------------------------------------------------------\u001b[0m",
      "\u001b[1;31mTypeError\u001b[0m                                 Traceback (most recent call last)",
      "\u001b[1;32m<ipython-input-9-7cafeb224a42>\u001b[0m in \u001b[0;36m<module>\u001b[1;34m\u001b[0m\n\u001b[0;32m      1\u001b[0m \u001b[1;31m# STRINGS (str) are denoted using quotes, and cannot be combined with INTEGERS and FLOATS.\u001b[0m\u001b[1;33m\u001b[0m\u001b[1;33m\u001b[0m\u001b[1;33m\u001b[0m\u001b[0m\n\u001b[0;32m      2\u001b[0m \u001b[1;31m# This code will cause an Error\u001b[0m\u001b[1;33m\u001b[0m\u001b[1;33m\u001b[0m\u001b[1;33m\u001b[0m\u001b[0m\n\u001b[1;32m----> 3\u001b[1;33m \u001b[1;34m\"this is a string\"\u001b[0m \u001b[1;33m+\u001b[0m \u001b[1;36m5\u001b[0m\u001b[1;33m\u001b[0m\u001b[1;33m\u001b[0m\u001b[0m\n\u001b[0m",
      "\u001b[1;31mTypeError\u001b[0m: can only concatenate str (not \"int\") to str"
     ]
    }
   ],
   "source": [
    "# STRINGS (str) are denoted using quotes, and cannot be combined with INTEGERS and FLOATS.\n",
    "# This code will cause an Error\n",
    "\"this is a string\" + 5"
   ]
  },
  {
   "cell_type": "code",
   "execution_count": 10,
   "metadata": {},
   "outputs": [
    {
     "data": {
      "text/plain": [
       "'this is a string'"
      ]
     },
     "execution_count": 10,
     "metadata": {},
     "output_type": "execute_result"
    }
   ],
   "source": [
    "# However, you can add STRINGS together!\n",
    "\"this is\" + \" a string\""
   ]
  },
  {
   "cell_type": "code",
   "execution_count": 11,
   "metadata": {},
   "outputs": [
    {
     "data": {
      "text/plain": [
       "'One plus one is 2.'"
      ]
     },
     "execution_count": 11,
     "metadata": {},
     "output_type": "execute_result"
    }
   ],
   "source": [
    "# You can also format strings, which is a very handy tool. This is accomplished through \"f strings\"\n",
    "# I'm gonna gloss over it. You can read it more here: https://realpython.com/python-f-strings/\n",
    "f\"One plus one is {1+1}.\""
   ]
  },
  {
   "cell_type": "code",
   "execution_count": 12,
   "metadata": {},
   "outputs": [
    {
     "data": {
      "text/plain": [
       "[1, 2, 3, 4, 5, 6, 7, 8, 9]"
      ]
     },
     "execution_count": 12,
     "metadata": {},
     "output_type": "execute_result"
    }
   ],
   "source": [
    "# LISTS are special. You can make any other class of data into a LIST by putting multiple items inside brackets [],\n",
    "# and then separating then with commas.\n",
    "x = [1, 2, 3, 4, 5, 6, 7, 8, 9]\n",
    "x"
   ]
  },
  {
   "cell_type": "code",
   "execution_count": 13,
   "metadata": {},
   "outputs": [
    {
     "data": {
      "text/plain": [
       "1"
      ]
     },
     "execution_count": 13,
     "metadata": {},
     "output_type": "execute_result"
    }
   ],
   "source": [
    "# Once we have a LIST, we can do some cool things, such as indexing.\n",
    "# Let's say we wanted to know the first item in our LIST \"x\"\n",
    "x[0]\n",
    "# Wait, why didn't you do x[1]? This is because Python is \"zero-indexed.\" The first item is 0, not 1.\n",
    "# This differs between programming languages and is kind of a headache... just a quirk to learn I guess :)"
   ]
  },
  {
   "cell_type": "code",
   "execution_count": 14,
   "metadata": {},
   "outputs": [
    {
     "data": {
      "text/plain": [
       "9"
      ]
     },
     "execution_count": 14,
     "metadata": {},
     "output_type": "execute_result"
    }
   ],
   "source": [
    "# You can get the last item in a LIST using a negative index\n",
    "x[-1]"
   ]
  },
  {
   "cell_type": "code",
   "execution_count": 15,
   "metadata": {},
   "outputs": [
    {
     "data": {
      "text/plain": [
       "[3, 4, 5]"
      ]
     },
     "execution_count": 15,
     "metadata": {},
     "output_type": "execute_result"
    }
   ],
   "source": [
    "# Or a range of items by separating the start and end indices with a colon\n",
    "x[2:5]"
   ]
  },
  {
   "cell_type": "code",
   "execution_count": 16,
   "metadata": {},
   "outputs": [
    {
     "data": {
      "text/plain": [
       "[1.5, 2.5, 3.5, 4.5, 5.5, 6.5]"
      ]
     },
     "execution_count": 16,
     "metadata": {},
     "output_type": "execute_result"
    }
   ],
   "source": [
    "# LISTS can also be added together through a process called \"concatenation\"\n",
    "[1.5,2.5,3.5] + [4.5,5.5,6.5]"
   ]
  },
  {
   "cell_type": "code",
   "execution_count": 17,
   "metadata": {},
   "outputs": [
    {
     "data": {
      "text/plain": [
       "4"
      ]
     },
     "execution_count": 17,
     "metadata": {},
     "output_type": "execute_result"
    }
   ],
   "source": [
    "# We can learn how many items are in a LIST using len(LIST)\n",
    "len([\"apples\",\"bananas\",\"strawberries\",\"peaches\"])"
   ]
  },
  {
   "cell_type": "code",
   "execution_count": 18,
   "metadata": {},
   "outputs": [
    {
     "data": {
      "text/plain": [
       "2"
      ]
     },
     "execution_count": 18,
     "metadata": {},
     "output_type": "execute_result"
    }
   ],
   "source": [
    "# DICTIONARIES (or dict) are basically fancier LISTS. DICTIONARIES are comprised of \"keys\" and \"values\" and use curly braces {}\n",
    "# Here's how it works, you separate items with commas just like LISTS, but you separate keys and values with colon :\n",
    "example_dict = {\"key1\":1, \"key2\":2, \"key3\":3}\n",
    "\n",
    "# You can then return an individual value from a DICTIONARY by putting the key in brackets []\n",
    "# kinda like how you would index a LIST!\n",
    "example_dict[\"key2\"]\n",
    "\n",
    "# Also just like lists, DICTIONARIES can be concatenated using +."
   ]
  },
  {
   "cell_type": "code",
   "execution_count": 19,
   "metadata": {},
   "outputs": [
    {
     "data": {
      "text/plain": [
       "dict_keys(['key1', 'key2', 'key3'])"
      ]
     },
     "execution_count": 19,
     "metadata": {},
     "output_type": "execute_result"
    }
   ],
   "source": [
    "# If you forget what the keys in your DICTIONARY is, you can find out like this:\n",
    "example_dict.keys()"
   ]
  },
  {
   "cell_type": "code",
   "execution_count": 20,
   "metadata": {},
   "outputs": [
    {
     "data": {
      "text/plain": [
       "dict_values([1, 2, 3])"
      ]
     },
     "execution_count": 20,
     "metadata": {},
     "output_type": "execute_result"
    }
   ],
   "source": [
    "# Same for values.\n",
    "example_dict.values()"
   ]
  },
  {
   "cell_type": "markdown",
   "metadata": {},
   "source": [
    "#### Functions"
   ]
  },
  {
   "cell_type": "markdown",
   "metadata": {},
   "source": [
    "**Functions** are a way to condense how many lines you need to write code. Remember `type()` from the last segment? That was a function! All functions are a word followed by open and closed parentheses, such as `print()`. Some functions can have variables \"passed\" to them by including them in the parentheses, but some don't need variables. (Also the name for a passed variable is an **argument**.)"
   ]
  },
  {
   "cell_type": "code",
   "execution_count": 21,
   "metadata": {},
   "outputs": [
    {
     "name": "stdout",
     "output_type": "stream",
     "text": [
      "Hello, world!\n"
     ]
    }
   ],
   "source": [
    "# Writing your own functions is a great way to make readable, easy-to-understand code.\n",
    "# However, some functions are included with the \"base\" of Python, such as print().\n",
    "# Print takes one argument: what you want it to print. This can be ints, strings, floats, lists...or anything really.\n",
    "# Print is a very simple function but one you will learn to love as it helps you figure out where your code isn't working.\n",
    "print(\"Hello, world!\")"
   ]
  },
  {
   "cell_type": "code",
   "execution_count": 22,
   "metadata": {},
   "outputs": [
    {
     "name": "stdout",
     "output_type": "stream",
     "text": [
      "Hello, world!\n"
     ]
    }
   ],
   "source": [
    "# You may notice there is no Out[] before the output of the last cell.\n",
    "# That is because outputs are suppressed when print is used.\n",
    "# For example, we can take our 1 + 1 code from earlier, but if we print after it, we won't see \"2.\"\n",
    "1 + 1\n",
    "print(\"Hello, world!\")"
   ]
  },
  {
   "cell_type": "code",
   "execution_count": 23,
   "metadata": {},
   "outputs": [
    {
     "name": "stdout",
     "output_type": "stream",
     "text": [
      "2\n",
      "Hello, world!\n"
     ]
    }
   ],
   "source": [
    "# If we wanted to see both, we could print() both.\n",
    "print(1 + 1)\n",
    "print(\"Hello, world!\")"
   ]
  },
  {
   "cell_type": "code",
   "execution_count": 24,
   "metadata": {},
   "outputs": [
    {
     "name": "stdout",
     "output_type": "stream",
     "text": [
      "Hello, world!\n"
     ]
    }
   ],
   "source": [
    "# The output of functions can also be assigned to a variable.\n",
    "x = print(\"Hello, world!\")\n",
    "x"
   ]
  },
  {
   "cell_type": "code",
   "execution_count": 25,
   "metadata": {},
   "outputs": [
    {
     "data": {
      "text/plain": [
       "8"
      ]
     },
     "execution_count": 25,
     "metadata": {},
     "output_type": "execute_result"
    }
   ],
   "source": [
    "# We can also write our own functions using def:\n",
    "def custom_function(x): # x is an argument the user will pass, in the same way we tell print() what to print\n",
    "    # This next section, started and stopped by three apostrophes, is the description of our function. It's like a comment kinda\n",
    "    '''\n",
    "    Takes a number and adds one to it.\n",
    "    '''\n",
    "    x_added = x + 1 # everything inside our function definition must be indented, similar to loops\n",
    "    return x_added # return tells us when the function is over\n",
    "\n",
    "# Now let's use our function\n",
    "custom_function(7)"
   ]
  },
  {
   "cell_type": "code",
   "execution_count": 26,
   "metadata": {},
   "outputs": [],
   "source": [
    "# The description (or \"docstring\" as nerds call it) for a function can be called by the function name followed by a ?\n",
    "custom_function?\n",
    "# NOTE: this doesn't output anything unless you are running the notebook so if you're viewing this in browser it will be blank"
   ]
  },
  {
   "cell_type": "code",
   "execution_count": 28,
   "metadata": {},
   "outputs": [],
   "source": [
    "# Some docstrings have a lot, lot more information than the one that I just wrote:\n",
    "print?"
   ]
  },
  {
   "cell_type": "markdown",
   "metadata": {},
   "source": [
    "#### Loops\n",
    "Loops allow you to iterate through data step-by-step. If you want to perform a simple action over and over again, then a loop is what you want!"
   ]
  },
  {
   "cell_type": "code",
   "execution_count": 29,
   "metadata": {},
   "outputs": [
    {
     "name": "stdout",
     "output_type": "stream",
     "text": [
      "0\n",
      "1\n",
      "2\n",
      "3\n",
      "4\n",
      "5\n",
      "6\n",
      "7\n",
      "8\n",
      "9\n"
     ]
    }
   ],
   "source": [
    "# The most common type of loop is a \"for loop.\" You iterate through each item in a list or some other structure.\n",
    "for number in range(10): # the loop starts with a colon\n",
    "    print(number) # Everything \"inside\" the loop is indented. The loop ends when you outdent."
   ]
  },
  {
   "cell_type": "code",
   "execution_count": 30,
   "metadata": {},
   "outputs": [
    {
     "name": "stdout",
     "output_type": "stream",
     "text": [
      "H\n",
      "e\n",
      "l\n",
      "l\n",
      "o\n",
      ",\n",
      " \n",
      "w\n",
      "o\n",
      "r\n",
      "l\n",
      "d\n",
      "!\n"
     ]
    }
   ],
   "source": [
    "# Another example\n",
    "for letter in \"Hello, world!\":\n",
    "    print(letter)"
   ]
  },
  {
   "cell_type": "code",
   "execution_count": 31,
   "metadata": {
    "scrolled": true
   },
   "outputs": [
    {
     "name": "stdout",
     "output_type": "stream",
     "text": [
      "0 H\n",
      "1 e\n",
      "2 l\n",
      "3 l\n",
      "4 o\n",
      "5 ,\n",
      "6  \n",
      "7 w\n",
      "8 o\n",
      "9 r\n",
      "10 l\n",
      "11 d\n",
      "12 !\n"
     ]
    }
   ],
   "source": [
    "# If you want both the value and the index, you can use enumerate().\n",
    "for index, letter in enumerate(\"Hello, world!\"):\n",
    "    print(index, letter)"
   ]
  },
  {
   "cell_type": "markdown",
   "metadata": {},
   "source": [
    "#### Booleans\n",
    "Boolean logic is separating things into True and False. What if you only want part of your code to run when certain things are happening? That's where booleans come in."
   ]
  },
  {
   "cell_type": "code",
   "execution_count": 32,
   "metadata": {},
   "outputs": [
    {
     "name": "stdout",
     "output_type": "stream",
     "text": [
      "Yep, that's right.\n",
      "Yeah, this is right too.\n"
     ]
    }
   ],
   "source": [
    "## We can check booleans using \"if statements.\" The syntax for these is similar to the for loops discussed above.\n",
    "if 1 + 1 == 2: # a double equals sign means \"is\"\n",
    "    print(\"Yep, that's right.\")\n",
    "    \n",
    "if 1 + 1 == 3:\n",
    "    print(\"This isn't right, so this part won't print.\")\n",
    "    \n",
    "if 1 + 1 != 3: # exclamation-equals means \"is not\"\n",
    "    print(\"Yeah, this is right too.\")"
   ]
  },
  {
   "cell_type": "code",
   "execution_count": 33,
   "metadata": {},
   "outputs": [
    {
     "name": "stdout",
     "output_type": "stream",
     "text": [
      "<class 'bool'>\n",
      "X is true because we made it true.\n"
     ]
    }
   ],
   "source": [
    "# Booleans are actually their own class in Python!\n",
    "print(type(True))\n",
    "\n",
    "x = True\n",
    "\n",
    "if x == True:\n",
    "    print(\"X is true because we made it true.\")\n",
    "else: # \"else\" means if the if statement is False, then do this instead.\n",
    "    print(\"Somehow, x became not true...\")"
   ]
  },
  {
   "cell_type": "code",
   "execution_count": 34,
   "metadata": {},
   "outputs": [
    {
     "name": "stdout",
     "output_type": "stream",
     "text": [
      "This is my favorite letter: l\n",
      "This is my favorite letter: l\n",
      "This is my favorite letter: l\n"
     ]
    }
   ],
   "source": [
    "# Let's combine a loop with an if statement!\n",
    "\n",
    "for letter in \"Hello, world!\":\n",
    "    if letter == 'l':\n",
    "        print(f\"This is my favorite letter: {letter}\")"
   ]
  },
  {
   "cell_type": "code",
   "execution_count": 36,
   "metadata": {},
   "outputs": [
    {
     "name": "stdout",
     "output_type": "stream",
     "text": [
      "['This is my favorite letter: l', 'This is my favorite letter: l', 'This is my favorite letter: l']\n"
     ]
    }
   ],
   "source": [
    "# You can also do something similar in one line using a list comprehension\n",
    "# List comprehensions are really handy tools that can make code more readable\n",
    "print([f\"This is my favorite letter: {letter}\" for letter in \"Hello, world!\" if letter == \"l\"])"
   ]
  },
  {
   "cell_type": "markdown",
   "metadata": {},
   "source": [
    "#### Imports"
   ]
  },
  {
   "cell_type": "code",
   "execution_count": 37,
   "metadata": {},
   "outputs": [
    {
     "data": {
      "text/plain": [
       "'F:\\\\git\\\\lab_intro_notebooks'"
      ]
     },
     "execution_count": 37,
     "metadata": {},
     "output_type": "execute_result"
    }
   ],
   "source": [
    "# So if you had to write each function you wanted to use that would suck. The solution to this is to use imports\n",
    "# Imports let you add other people's functions that they wrote into your notebook. To do this, you have to import a package.\n",
    "# Let's use the package \"os.\" It contains a lot of functions that tell Python things about your operating system\n",
    "import os\n",
    "# Now we can use functions from the os package\n",
    "os.getcwd() # This function tells us the directory our code is running in\n",
    "# When using functions from a package, you write the package name, then a period, then the function you want from that pkg."
   ]
  },
  {
   "cell_type": "code",
   "execution_count": 38,
   "metadata": {},
   "outputs": [
    {
     "data": {
      "text/plain": [
       "'F:\\\\git\\\\lab_intro_notebooks'"
      ]
     },
     "execution_count": 38,
     "metadata": {},
     "output_type": "execute_result"
    }
   ],
   "source": [
    "# We can also import packages as variables! Wow, variables do so much how cool wowwwowowowow\n",
    "import os as turtle # this is kinda like turtle = os\n",
    "turtle.getcwd()"
   ]
  },
  {
   "cell_type": "markdown",
   "metadata": {},
   "source": [
    "## Numpy: a data scientist's best friend\n",
    "\n",
    "Numpy is a package that data scientists commonly import. Why? Cause it does everything! In a nutshell, Numpy adds a bunch of high-level mathematical functions to Python. Most importantly, matrices, which numpy calls an `array`."
   ]
  },
  {
   "cell_type": "code",
   "execution_count": 39,
   "metadata": {},
   "outputs": [
    {
     "name": "stdout",
     "output_type": "stream",
     "text": [
      "[1 2 3]\n",
      "[0 1 2 3 4 5 6 7 8 9]\n",
      "[[0. 0. 0. 0. 0. 0. 0. 0. 0. 0.]]\n",
      "[1.         1.21052632 1.42105263 1.63157895 1.84210526 2.05263158\n",
      " 2.26315789 2.47368421 2.68421053 2.89473684 3.10526316 3.31578947\n",
      " 3.52631579 3.73684211 3.94736842 4.15789474 4.36842105 4.57894737\n",
      " 4.78947368 5.        ]\n"
     ]
    }
   ],
   "source": [
    "import numpy as np # commonly imported as np so it's easier to write\n",
    "# Here are some ways to make an array.\n",
    "x = np.array([1,2,3]) # kinda like a list, right? you can index them in the same way as a list :)\n",
    "print(x)\n",
    "# Here's another way, the arange() function\n",
    "x = np.arange(10)\n",
    "print(x)\n",
    "# Another, the zeros() function\n",
    "x = np.zeros((1,10)) # the argument in parentheses is number of rows by number of columns\n",
    "print(x)\n",
    "# np.linspace() also creates arrays but has more arguments: start, stop, and number of steps\n",
    "x = np.linspace(1,5,20)\n",
    "print(x)"
   ]
  },
  {
   "cell_type": "code",
   "execution_count": 40,
   "metadata": {
    "scrolled": true
   },
   "outputs": [
    {
     "name": "stdout",
     "output_type": "stream",
     "text": [
      "[[0. 0. 0. 0. 0.]\n",
      " [0. 0. 0. 0. 0.]\n",
      " [0. 0. 0. 0. 0.]\n",
      " [0. 0. 0. 0. 0.]\n",
      " [0. 0. 0. 0. 0.]]\n",
      "[[[0. 0. 0. 0. 0.]\n",
      "  [0. 0. 0. 0. 0.]\n",
      "  [0. 0. 0. 0. 0.]\n",
      "  [0. 0. 0. 0. 0.]\n",
      "  [0. 0. 0. 0. 0.]]\n",
      "\n",
      " [[0. 0. 0. 0. 0.]\n",
      "  [0. 0. 0. 0. 0.]\n",
      "  [0. 0. 0. 0. 0.]\n",
      "  [0. 0. 0. 0. 0.]\n",
      "  [0. 0. 0. 0. 0.]]\n",
      "\n",
      " [[0. 0. 0. 0. 0.]\n",
      "  [0. 0. 0. 0. 0.]\n",
      "  [0. 0. 0. 0. 0.]\n",
      "  [0. 0. 0. 0. 0.]\n",
      "  [0. 0. 0. 0. 0.]]\n",
      "\n",
      " [[0. 0. 0. 0. 0.]\n",
      "  [0. 0. 0. 0. 0.]\n",
      "  [0. 0. 0. 0. 0.]\n",
      "  [0. 0. 0. 0. 0.]\n",
      "  [0. 0. 0. 0. 0.]]\n",
      "\n",
      " [[0. 0. 0. 0. 0.]\n",
      "  [0. 0. 0. 0. 0.]\n",
      "  [0. 0. 0. 0. 0.]\n",
      "  [0. 0. 0. 0. 0.]\n",
      "  [0. 0. 0. 0. 0.]]]\n"
     ]
    }
   ],
   "source": [
    "# Arrays can also be multidimensional. The arrays in the last cell were 1D. let's make a 2D array.\n",
    "two_dimensions = np.zeros((5,5))\n",
    "print(two_dimensions)\n",
    "\n",
    "# What about 3D?\n",
    "three_dimensions = np.zeros((5,5,5))\n",
    "print(three_dimensions)"
   ]
  },
  {
   "cell_type": "code",
   "execution_count": 41,
   "metadata": {},
   "outputs": [
    {
     "name": "stdout",
     "output_type": "stream",
     "text": [
      "(5, 5)\n",
      "(5, 5, 5)\n",
      "(5,)\n"
     ]
    }
   ],
   "source": [
    "# You can actually make an array any number of dimensions. This can get confusing really quickly as very quickly,\n",
    "# multidimensional arrays become hard to read using print(). Luckily, there's another tool that can help with this!\n",
    "print(np.shape(two_dimensions)) # a 5x5 square\n",
    "print(np.shape(three_dimensions)) # a 5x5x5 cube\n",
    "\n",
    "# you can index the shape also\n",
    "print(np.shape(two_dimensions[0]))"
   ]
  },
  {
   "cell_type": "code",
   "execution_count": 42,
   "metadata": {},
   "outputs": [
    {
     "name": "stdout",
     "output_type": "stream",
     "text": [
      "0.0\n",
      "[0. 0. 0. 0. 0.]\n"
     ]
    }
   ],
   "source": [
    "# With arrays though, we don't call it indexing. We call it slicing.\n",
    "# That's because it takes place in multiple dimensions (axes), separated by commas\n",
    "print(three_dimensions[0,1,4])\n",
    "\n",
    "# If we want all the values in an axis, use a colon\n",
    "print(three_dimensions[1,:,2])"
   ]
  },
  {
   "cell_type": "code",
   "execution_count": 43,
   "metadata": {},
   "outputs": [
    {
     "name": "stdout",
     "output_type": "stream",
     "text": [
      "[5 7 9]\n",
      "[1 2 3 4 5 6]\n"
     ]
    }
   ],
   "source": [
    "# You may remember we can concatenate lists and dicts using +. It's different for arrays\n",
    "x = np.array([1,2,3])\n",
    "y = np.array([4,5,6])\n",
    "\n",
    "print(x + y)\n",
    "\n",
    "print(np.concatenate((x,y)))"
   ]
  },
  {
   "cell_type": "code",
   "execution_count": 44,
   "metadata": {},
   "outputs": [
    {
     "name": "stdout",
     "output_type": "stream",
     "text": [
      "(2, 3)\n"
     ]
    },
    {
     "ename": "ValueError",
     "evalue": "all the input arrays must have same number of dimensions, but the array at index 0 has 2 dimension(s) and the array at index 1 has 1 dimension(s)",
     "output_type": "error",
     "traceback": [
      "\u001b[1;31m---------------------------------------------------------------------------\u001b[0m",
      "\u001b[1;31mValueError\u001b[0m                                Traceback (most recent call last)",
      "\u001b[1;32m<ipython-input-44-2338b5dc2eca>\u001b[0m in \u001b[0;36m<module>\u001b[1;34m\u001b[0m\n\u001b[0;32m      3\u001b[0m \u001b[0mprint\u001b[0m\u001b[1;33m(\u001b[0m\u001b[0mz\u001b[0m\u001b[1;33m.\u001b[0m\u001b[0mshape\u001b[0m\u001b[1;33m)\u001b[0m\u001b[1;33m\u001b[0m\u001b[1;33m\u001b[0m\u001b[0m\n\u001b[0;32m      4\u001b[0m \u001b[1;31m# Arrays need the same shape to concatenate (this will cause an error)\u001b[0m\u001b[1;33m\u001b[0m\u001b[1;33m\u001b[0m\u001b[1;33m\u001b[0m\u001b[0m\n\u001b[1;32m----> 5\u001b[1;33m \u001b[0mprint\u001b[0m\u001b[1;33m(\u001b[0m\u001b[0mnp\u001b[0m\u001b[1;33m.\u001b[0m\u001b[0mconcatenate\u001b[0m\u001b[1;33m(\u001b[0m\u001b[1;33m(\u001b[0m\u001b[0mz\u001b[0m\u001b[1;33m,\u001b[0m\u001b[0mx\u001b[0m\u001b[1;33m)\u001b[0m\u001b[1;33m)\u001b[0m\u001b[1;33m)\u001b[0m\u001b[1;33m\u001b[0m\u001b[1;33m\u001b[0m\u001b[0m\n\u001b[0m",
      "\u001b[1;32m<__array_function__ internals>\u001b[0m in \u001b[0;36mconcatenate\u001b[1;34m(*args, **kwargs)\u001b[0m\n",
      "\u001b[1;31mValueError\u001b[0m: all the input arrays must have same number of dimensions, but the array at index 0 has 2 dimension(s) and the array at index 1 has 1 dimension(s)"
     ]
    }
   ],
   "source": [
    "# For higher dimensional arrays it can get complicated\n",
    "z = np.array((x,y))\n",
    "print(z.shape)\n",
    "# Arrays need the same shape to concatenate (this will cause an error)\n",
    "print(np.concatenate((z,x)))"
   ]
  },
  {
   "cell_type": "code",
   "execution_count": 45,
   "metadata": {},
   "outputs": [
    {
     "name": "stdout",
     "output_type": "stream",
     "text": [
      "(3, 3)\n"
     ]
    }
   ],
   "source": [
    "# To get around this, you can use np.hstack() or np.vstack()\n",
    "print(np.vstack((z,x)).shape) # adds the 1D array X as a new column to the 2D array Z"
   ]
  },
  {
   "cell_type": "code",
   "execution_count": 46,
   "metadata": {},
   "outputs": [
    {
     "name": "stdout",
     "output_type": "stream",
     "text": [
      "(2, 3)\n",
      "(3, 2)\n"
     ]
    }
   ],
   "source": [
    "# There are lots of other ways to manipulate arrays.\n",
    "# If it's an operation you'd do to a matrix in calculus class, there's prob a numpy function for it.\n",
    "# I'll lastly cover transposition here. To switch the rows and columns of an array, use .T\n",
    "print(z.shape)\n",
    "print(z.T.shape)\n",
    "# The more you use numpy, the more you'll find cool handy things to do with it!"
   ]
  },
  {
   "cell_type": "markdown",
   "metadata": {},
   "source": [
    "## Reading .csv's\n",
    "Another common data structure used by the lab, comma-separated (and tab-separated) values can be exported by Excel so are a popular structure of data for large datasets. There's a module for this as well, `csv`.\n",
    "\n",
    "The name of the game here is to get the .csv into some type of more common structure for Python, most commonly a numpy array or a list. I'll turn a .csv I found on Google into a list in this example."
   ]
  },
  {
   "cell_type": "code",
   "execution_count": 47,
   "metadata": {},
   "outputs": [
    {
     "name": "stdout",
     "output_type": "stream",
     "text": [
      "[['John', 'Doe', '120 jefferson st.', 'Riverside', ' NJ', ' 08075'], ['Jack', 'McGinnis', '220 hobo Av.', 'Phila', ' PA', '09119'], ['John \"Da Man\"', 'Repici', '120 Jefferson St.', 'Riverside', ' NJ', '08075'], ['Stephen', 'Tyler', '7452 Terrace \"At the Plaza\" road', 'SomeTown', 'SD', ' 91234'], ['', 'Blankman', '', 'SomeTown', ' SD', ' 00298'], ['Joan \"the bone\", Anne', 'Jet', '9th, at Terrace plc', 'Desert City', 'CO', '00123']]\n"
     ]
    }
   ],
   "source": [
    "import csv\n",
    "example_csv_filepath = f\"{os.getcwd()}/supplemental_files/addresses.csv\"\n",
    "\n",
    "csv_list = [] # Make an empty list we will append to\n",
    "with open(example_csv_filepath) as csvfile:\n",
    "    reader = csv.reader(csvfile) # save the csv file to a custom data class supported by the csv module\n",
    "    for row in reader:\n",
    "        csv_list.append(row)\n",
    "        \n",
    "print(csv_list)"
   ]
  },
  {
   "cell_type": "markdown",
   "metadata": {},
   "source": [
    "## Reading TextGrids\n",
    "TextGrids require some custom script to load in. I put this script in the `supplemental_files` folder and we are going to import it from there. Similarly, let's convert an example TextGrid to a list. This one's not from the internet though, it's from my Masters thesis experiment :)"
   ]
  },
  {
   "cell_type": "code",
   "execution_count": 48,
   "metadata": {},
   "outputs": [
    {
     "name": "stdout",
     "output_type": "stream",
     "text": [
      "[<IntervalTier \"phone\" (0.01, 605.00) 100.00%>, <IntervalTier \"word\" (0.01, 605.00) 100.00%>]\n"
     ]
    }
   ],
   "source": [
    "from supplemental_files import textgrid\n",
    "example_tg_filepath = f\"{os.getcwd()}/supplemental_files/OP0001_B1_spkr_02.textgrid\"\n",
    "with open(example_tg_filepath) as tgfile:\n",
    "    tg = textgrid.TextGrid(tgfile.read())\n",
    "# Now we can view the tiers using textgrid.tiers\n",
    "print(tg.tiers)"
   ]
  },
  {
   "cell_type": "code",
   "execution_count": 49,
   "metadata": {},
   "outputs": [
    {
     "data": {
      "text/plain": [
       "[('0.012471655328798186', '0.2619047619047619', 'sp'),\n",
       " ('0.2619047619047619', '4.192970621315193', 'ns'),\n",
       " ('4.192970521541951', '4.831519274376418', 'M'),\n",
       " ('4.831519274376418', '4.971201814058957', 'AH1'),\n",
       " ('4.971201814058957', '5.160770975056689', 'M'),\n",
       " ('5.160770975056689', '5.220634920634921', 'S'),\n",
       " ('5.220634920634921', '5.270521541950113', 'T'),\n",
       " ('5.270521541950113', '5.310430839002267', 'R'),\n",
       " ('5.310430839002267', '5.390249433106575', 'AO1'),\n",
       " ('5.390249433106575', '5.509977324263038', 'NG'),\n",
       " ('5.509977324263038', '5.539909297052154', 'L'),\n",
       " ('5.539909297052154', '5.6197278911564625', 'IY0'),\n",
       " ('5.6197278911564625', '5.6696145124716555', 'D'),\n",
       " ('5.6696145124716555', '5.729478458049887', 'IH2'),\n",
       " ('5.729478458049887', '5.809297052154195', 'S'),\n",
       " ('5.809297052154195', '5.869160997732426', 'L'),\n",
       " ('5.869160997732426', '5.9589569160997735', 'AY1'),\n",
       " ('5.9589569160997735', '5.998866213151928', 'K'),\n",
       " ('5.998866213151928', '6.0587301587301585', 'S'),\n",
       " ('6.0587301587301585', '6.228344671201814', 'AE1'),\n",
       " ('6.228344671201814', '6.298185941043084', 'P'),\n",
       " ('6.298185941043084', '6.338095238095238', 'AH0'),\n",
       " ('6.338095238095238', '6.427891156462585', 'T'),\n",
       " ('6.427891156462585', '6.577551020408163', 'AY2'),\n",
       " ('6.577551020408163', '6.66734693877551', 'Z'),\n",
       " ('6.66734693877551', '6.7870748299319725', 'ER0'),\n",
       " ('6.7870748299319725', '7.076417233560091', 'Z'),\n",
       " ('7.076417233560091', '7.794784580498866', 'sp'),\n",
       " ('7.794784580498866', '11.167120281179137', 'ns'),\n",
       " ('11.167120181405894', '12.633786848072562', 'sp'),\n",
       " ('12.633786848072562', '14.55941033106576', 'ns'),\n",
       " ('14.559410430839002', '14.679138321995463', 'DH'),\n",
       " ('14.679138321995463', '14.848752834467119', 'OW1'),\n",
       " ('14.848752834467119', '14.958503401360543', 'Z'),\n",
       " ('14.958503401360543', '14.988435374149658', 'HH'),\n",
       " ('14.988435374149658', '15.068253968253966', 'UW1'),\n",
       " ('15.068253968253966', '15.158049886621313', 'T'),\n",
       " ('15.158049886621313', '15.297732426303854', 'IY1'),\n",
       " ('15.297732426303854', '15.397505668934238', 'CH'),\n",
       " ('15.397505668934238', '15.447392290249432', 'V'),\n",
       " ('15.447392290249432', '15.507256235827663', 'AE1'),\n",
       " ('15.507256235827663', '15.597052154195008', 'L'),\n",
       " ('15.597052154195008', '15.716780045351474', 'Y'),\n",
       " ('15.716780045351474', '15.746712018140588', 'UW0'),\n",
       " ('15.746712018140588', '15.866439909297052', 'Z'),\n",
       " ('15.866439909297052', '15.94625850340136', 'F'),\n",
       " ('15.94625850340136', '16.14580498866213', 'ER1'),\n",
       " ('16.14580498866213', '16.23560090702948', 'S'),\n",
       " ('16.23560090702948', '16.265532879818593', 'T'),\n",
       " ('16.265532879818593', '16.375283446712015', 'AH0'),\n",
       " ('16.375283446712015', '16.46507936507936', 'B'),\n",
       " ('16.46507936507936', '16.544897959183672', 'AA1'),\n",
       " ('16.544897959183672', '16.68458049886621', 'L'),\n",
       " ('16.68458049886621', '16.714512471655325', 'IH2'),\n",
       " ('16.714512471655325', '16.84421768707483', 'SH'),\n",
       " ('16.84421768707483', '16.993877551020407', 'CH'),\n",
       " ('16.993877551020407', '17.11360544217687', 'IY1'),\n",
       " ('17.11360544217687', '17.143537414965987', 'T'),\n",
       " ('17.143537414965987', '17.273242630385486', 'IH0'),\n",
       " ('17.273242630385486', '17.552607709750564', 'NG'),\n",
       " ('17.552607709750564', '19.538095238095238', 'sp'),\n",
       " ('19.538095238095238', '26.831519174603173', 'ns'),\n",
       " ('26.831519274376415', '31.411111310657596', 'sp'),\n",
       " ('31.411111111111108', '34.24467110204082', 'ns'),\n",
       " ('34.244671201814064', '34.36439909297052', 'DH'),\n",
       " ('34.36439909297052', '34.40430839002268', 'AH1'),\n",
       " ('34.40430839002268', '34.55396825396825', 'F'),\n",
       " ('34.55396825396825', '34.593877551020405', 'R'),\n",
       " ('34.593877551020405', '34.70362811791384', 'AY1'),\n",
       " ('34.70362811791384', '34.77346938775511', 'T'),\n",
       " ('34.77346938775511', '34.903174603174605', 'AH0'),\n",
       " ('34.903174603174605', '34.93310657596372', 'N'),\n",
       " ('34.93310657596372', '34.963038548752834', 'D'),\n",
       " ('34.963038548752834', '35.032879818594104', 'CH'),\n",
       " ('35.032879818594104', '35.17256235827665', 'AY1'),\n",
       " ('35.17256235827665', '35.29229024943311', 'L'),\n",
       " ('35.29229024943311', '35.33219954648526', 'D'),\n",
       " ('35.33219954648526', '35.39206349206349', 'W'),\n",
       " ('35.39206349206349', '35.421995464852614', 'AH0'),\n",
       " ('35.421995464852614', '35.50181405895692', 'Z'),\n",
       " ('35.50181405895692', '35.59160997732426', 'JH'),\n",
       " ('35.59160997732426', '35.6514739229025', 'EH1'),\n",
       " ('35.6514739229025', '35.68140589569161', 'N'),\n",
       " ('35.68140589569161', '35.711337868480726', 'T'),\n",
       " ('35.711337868480726', '35.74126984126985', 'L'),\n",
       " ('35.74126984126985', '35.81111111111112', 'IY0'),\n",
       " ('35.81111111111112', '35.92086167800454', 'S'),\n",
       " ('35.92086167800454', '35.980725623582764', 'AH0'),\n",
       " ('35.980725623582764', '36.020634920634926', 'B'),\n",
       " ('36.020634920634926', '36.10045351473923', 'D'),\n",
       " ('36.10045351473923', '36.26009070294784', 'UW1'),\n",
       " ('36.26009070294784', '36.290022675736964', 'D'),\n",
       " ('36.290022675736964', '36.35986394557823', 'B'),\n",
       " ('36.35986394557823', '36.4297052154195', 'AY1'),\n",
       " ('36.4297052154195', '36.45963718820862', 'HH'),\n",
       " ('36.45963718820862', '36.52947845804989', 'IH1'),\n",
       " ('36.52947845804989', '36.62925170068028', 'Z'),\n",
       " ('36.62925170068028', '36.67913832199547', 'B'),\n",
       " ('36.67913832199547', '36.7390022675737', 'IH1'),\n",
       " ('36.7390022675737', '36.80884353741497', 'G'),\n",
       " ('36.80884353741497', '36.87868480725624', 'B'),\n",
       " ('36.87868480725624', '36.97845804988662', 'R'),\n",
       " ('36.97845804988662', '37.04829931972789', 'AH1'),\n",
       " ('37.04829931972789', '37.078231292517', 'DH'),\n",
       " ('37.078231292517', '37.40748299319728', 'ER0'),\n",
       " ('37.40748299319728', '39.4328798185941', 'ns'),\n",
       " ('39.4328798185941', '40.03151927437642', 'sp'),\n",
       " ('40.03151927437642', '45.29954668480726', 'ns'),\n",
       " ('45.29954648526077', '45.45918367346938', 'IY1'),\n",
       " ('45.45918367346938', '45.489115646258504', 'V'),\n",
       " ('45.489115646258504', '45.54897959183673', 'AH0'),\n",
       " ('45.54897959183673', '45.628798185941044', 'N'),\n",
       " ('45.628798185941044', '45.6687074829932', 'AH0'),\n",
       " ('45.6687074829932', '45.80839002267574', 'S'),\n",
       " ('45.80839002267574', '45.85827664399093', 'IH1'),\n",
       " ('45.85827664399093', '45.91814058956916', 'M'),\n",
       " ('45.91814058956916', '45.97800453514739', 'P'),\n",
       " ('45.97800453514739', '46.04784580498866', 'AH0'),\n",
       " ('46.04784580498866', '46.07777777777778', 'L'),\n",
       " ('46.07777777777778', '46.1077097505669', 'V'),\n",
       " ('46.1077097505669', '46.237414965986396', 'OW0'),\n",
       " ('46.237414965986396', '46.3172335600907', 'K'),\n",
       " ('46.3172335600907', '46.436961451247164', 'AE1'),\n",
       " ('46.436961451247164', '46.48684807256236', 'B'),\n",
       " ('46.48684807256236', '46.57664399092971', 'Y'),\n",
       " ('46.57664399092971', '46.606575963718825', 'AH0'),\n",
       " ('46.606575963718825', '46.64648526077098', 'L'),\n",
       " ('46.64648526077098', '46.68639455782313', 'EH2'),\n",
       " ('46.68639455782313', '46.736281179138324', 'R'),\n",
       " ('46.736281179138324', '46.826077097505674', 'IY0'),\n",
       " ('46.826077097505674', '46.895918367346944', 'K'),\n",
       " ('46.895918367346944', '46.92585034013606', 'AH0'),\n",
       " ('46.92585034013606', '47.08548752834467', 'N'),\n",
       " ('47.08548752834467', '47.14535147392291', 'T'),\n",
       " ('47.14535147392291', '47.23514739229025', 'EY1'),\n",
       " ('47.23514739229025', '47.334920634920636', 'N'),\n",
       " ('47.334920634920636', '47.39478458049887', 'Z'),\n",
       " ('47.39478458049887', '47.46462585034014', 'S'),\n",
       " ('47.46462585034014', '47.51451247165533', 'IH1'),\n",
       " ('47.51451247165533', '47.60430839002268', 'M'),\n",
       " ('47.60430839002268', '47.644217687074836', 'B'),\n",
       " ('47.644217687074836', '47.68412698412698', 'AH0'),\n",
       " ('47.68412698412698', '47.86371882086168', 'L'),\n",
       " ('47.86371882086168', '48.14308390022676', 'Z'),\n",
       " ('48.14308390022676', '55.905442376417234', 'sp'),\n",
       " ('55.90544217687075', '58.140362811791384', 'ns'),\n",
       " ('58.140362811791384', '60.24557813151928', 'sp'),\n",
       " ('60.24557823129251', '63.438321995464854', 'ns'),\n",
       " ('63.438321995464854', '63.56802721088436', 'AH0'),\n",
       " ('63.56802721088436', '63.64784580498866', 'K'),\n",
       " ('63.64784580498866', '63.747619047619054', 'R'),\n",
       " ('63.747619047619054', '63.947165532879815', 'AE1'),\n",
       " ('63.947165532879815', '64.0170068027211', 'B'),\n",
       " ('64.0170068027211', '64.16666666666666', 'CH'),\n",
       " ('64.16666666666666', '64.21655328798185', 'AE1'),\n",
       " ('64.21655328798185', '64.4061224489796', 'L'),\n",
       " ('64.4061224489796', '64.46598639455782', 'AH0'),\n",
       " ('64.46598639455782', '64.54580498866214', 'JH'),\n",
       " ('64.54580498866214', '64.62562358276645', 'D'),\n",
       " ('64.62562358276645', '64.67551020408163', 'M'),\n",
       " ('64.67551020408163', '64.87505668934241', 'IY1'),\n",
       " ('64.87505668934241', '64.93492063492063', 'B'),\n",
       " ('64.93492063492063', '64.99478458049886', 'AH1'),\n",
       " ('64.99478458049886', '65.03469387755102', 'T'),\n",
       " ('65.03469387755102', '65.08458049886622', 'AH0'),\n",
       " ('65.08458049886622', '65.1843537414966', 'K'),\n",
       " ('65.1843537414966', '65.21428571428571', 'W'),\n",
       " ('65.21428571428571', '65.29410430839003', 'IH1'),\n",
       " ('65.29410430839003', '65.37392290249434', 'K'),\n",
       " ('65.37392290249434', '65.49365079365079', 'S'),\n",
       " ('65.49365079365079', '65.53356009070295', 'T'),\n",
       " ('65.53356009070295', '65.7530612244898', 'AE1'),\n",
       " ('65.7530612244898', '65.82290249433106', 'B'),\n",
       " ('65.82290249433106', '65.92267573696145', 'V'),\n",
       " ('65.92267573696145', '65.95260770975057', 'AE1'),\n",
       " ('65.95260770975057', '66.08231292517007', 'NG'),\n",
       " ('66.08231292517007', '66.15215419501135', 'K'),\n",
       " ('66.15215419501135', '66.21201814058956', 'W'),\n",
       " ('66.21201814058956', '66.24195011337868', 'IH0'),\n",
       " ('66.24195011337868', '66.3716553287982', 'SH'),\n",
       " ('66.3716553287982', '66.42154195011338', 'T'),\n",
       " ('66.42154195011338', '66.4514739229025', 'HH'),\n",
       " ('66.4514739229025', '66.55124716553287', 'IH1'),\n",
       " ('66.55124716553287', '66.840589569161', 'M'),\n",
       " ('66.840589569161', '67.26961451247165', 'sp'),\n",
       " ('67.26961451247165', '67.91814058956916', 'ns'),\n",
       " ('67.91814058956916', '70.70181405895691', 'sp'),\n",
       " ('70.70181405895691', '75.16167780498867', 'ns'),\n",
       " ('75.16167800453513', '75.26145124716554', 'G'),\n",
       " ('75.26145124716554', '75.32131519274377', 'L'),\n",
       " ('75.32131519274377', '75.42108843537414', 'UW1'),\n",
       " ('75.42108843537414', '75.53083900226757', 'K'),\n",
       " ('75.53083900226757', '75.640589569161', 'OW2'),\n",
       " ('75.640589569161', '75.76031746031747', 'S'),\n",
       " ('75.76031746031747', '75.89002267573696', 'AE1'),\n",
       " ('75.89002267573696', '75.91995464852607', 'N'),\n",
       " ('75.91995464852607', '75.95986394557823', 'D'),\n",
       " ('75.95986394557823', '76.01972789115646', 'F'),\n",
       " ('76.01972789115646', '76.09954648526077', 'R'),\n",
       " ('76.09954648526077', '76.13945578231292', 'AH1'),\n",
       " ('76.13945578231292', '76.2092970521542', 'K'),\n",
       " ('76.2092970521542', '76.40884353741495', 'T'),\n",
       " ('76.40884353741495', '76.43877551020408', 'OW2'),\n",
       " ('76.43877551020408', '76.56848072562359', 'S'),\n",
       " ('76.56848072562359', '76.63832199546485', 'AA1'),\n",
       " ('76.63832199546485', '76.7281179138322', 'R'),\n",
       " ('76.7281179138322', '76.76802721088436', 'N'),\n",
       " ('76.76802721088436', '76.86780045351475', 'AE1'),\n",
       " ('76.86780045351475', '76.93764172335601', 'CH'),\n",
       " ('76.93764172335601', '77.04739229024943', 'ER0'),\n",
       " ('77.04739229024943', '77.08730158730158', 'AH0'),\n",
       " ('77.08730158730158', '77.13718820861678', 'L'),\n",
       " ('77.13718820861678', '77.25691609977325', 'SH'),\n",
       " ('77.25691609977325', '77.35668934240363', 'UH1'),\n",
       " ('77.35668934240363', '77.39659863945579', 'G'),\n",
       " ('77.39659863945579', '77.51632653061225', 'ER0'),\n",
       " ('77.51632653061225', '77.66598639455782', 'Z'),\n",
       " ('77.66598639455782', '77.72585034013605', 'F'),\n",
       " ('77.72585034013605', '77.88548752834467', 'AW1'),\n",
       " ('77.88548752834467', '77.96530612244898', 'N'),\n",
       " ('77.96530612244898', '78.01519274376417', 'D'),\n",
       " ('78.01519274376417', '78.0750566893424', 'IH1'),\n",
       " ('78.0750566893424', '78.19478458049886', 'N'),\n",
       " ('78.19478458049886', '78.21473922902494', 'sp'),\n",
       " ('78.21473922902494', '78.28458049886622', 'F'),\n",
       " ('78.28458049886622', '78.3843537414966', 'R'),\n",
       " ('78.3843537414966', '78.79342403628117', 'UW1'),\n",
       " ('78.79342403628117', '78.85328798185941', 'T'),\n",
       " ('78.85328798185941', '79.19251700680272', 'sp'),\n",
       " ('79.19251700680272', '80.83877551020409', 'ns'),\n",
       " ('80.83877551020409', '85.14897979138323', 'ns'),\n",
       " ('85.14897959183673', '85.23877551020408', 'AA1'),\n",
       " ('85.23877551020408', '85.35850340136055', 'R'),\n",
       " ('85.35850340136055', '85.52811791383219', 'Y'),\n",
       " ('85.52811791383219', '85.61791383219955', 'UW1'),\n",
       " ('85.61791383219955', '85.66780045351473', 'L'),\n",
       " ('85.66780045351473', '85.71768707482994', 'UH1'),\n",
       " ('85.71768707482994', '85.77755102040815', 'K'),\n",
       " ('85.77755102040815', '85.84739229024943', 'IH0'),\n",
       " ('85.84739229024943', '85.98707482993197', 'NG'),\n",
       " ('85.98707482993197', '86.02698412698412', 'F'),\n",
       " ('86.02698412698412', '86.13673469387754', 'R'),\n",
       " ('86.13673469387754', '86.18662131519275', 'ER0'),\n",
       " ('86.18662131519275', '86.21655328798187', 'AH0'),\n",
       " ('86.21655328798187', '86.27641723356008', 'M'),\n",
       " ('86.27641723356008', '86.32630385487529', 'P'),\n",
       " ('86.32630385487529', '86.37619047619047', 'L'),\n",
       " ('86.37619047619047', '86.47596371882086', 'OY1'),\n",
       " ('86.47596371882086', '86.56575963718821', 'M'),\n",
       " ('86.56575963718821', '86.6156462585034', 'AH0'),\n",
       " ('86.6156462585034', '86.83514739229024', 'N'),\n",
       " ('86.83514739229024', '87.07460317460318', 'T'),\n",
       " ('87.07460317460318', '87.98253968253968', 'sp'),\n",
       " ('87.98253968253968', '88.46145124716554', 'ns'),\n",
       " ('88.46145124716554', '94.42789115646258', 'sp'),\n",
       " ('94.42789115646258', '96.26371882086167', 'ns'),\n",
       " ('96.26371882086167', '96.32358276643991', 'K'),\n",
       " ('96.32358276643991', '96.5530612244898', 'AA1'),\n",
       " ('96.5530612244898', '96.60294784580499', 'F'),\n",
       " ('96.60294784580499', '96.6328798185941', 'IY0'),\n",
       " ('96.6328798185941', '96.91224489795918', 'IH1'),\n",
       " ('96.91224489795918', '96.96213151927438', 'Z'),\n",
       " ('96.96213151927438', '97.05192743764172', 'G'),\n",
       " ('97.05192743764172', '97.13174603174603', 'R'),\n",
       " ('97.13174603174603', '97.30136054421769', 'OW1'),\n",
       " ('97.30136054421769', '97.36122448979592', 'N'),\n",
       " ('97.36122448979592', '97.47097505668935', 'AA1'),\n",
       " ('97.47097505668935', '97.57074829931973', 'N'),\n",
       " ('97.57074829931973', '97.71043083900227', 'S'),\n",
       " ('97.71043083900227', '97.7702947845805', 'T'),\n",
       " ('97.7702947845805', '98.05963718820861', 'IY1'),\n",
       " ('98.05963718820861', '98.13945578231292', 'P'),\n",
       " ('98.13945578231292', '98.24920634920635', 'JH'),\n",
       " ('98.24920634920635', '98.31904761904762', 'AH1'),\n",
       " ('98.31904761904762', '98.34897959183674', 'NG'),\n",
       " ('98.34897959183674', '98.44875283446711', 'G'),\n",
       " ('98.44875283446711', '98.48866213151928', 'AH0'),\n",
       " ('98.48866213151928', '98.5984126984127', 'L'),\n",
       " ('98.5984126984127', '98.63832199546485', 'L'),\n",
       " ('98.63832199546485', '98.71814058956916', 'AY1'),\n",
       " ('98.71814058956916', '98.76802721088436', 'K'),\n",
       " ('98.76802721088436', '98.91768707482993', 'S'),\n",
       " ('98.91768707482993', '99.04739229024943', 'L'),\n",
       " ('99.04739229024943', '99.10725623582766', 'OW1'),\n",
       " ('99.10725623582766', '99.16712018140589', 'P'),\n",
       " ('99.16712018140589', '99.30680272108843', 'S'),\n",
       " ('99.30680272108843', '99.36666666666666', 'IH1'),\n",
       " ('99.36666666666666', '99.47641723356008', 'N'),\n",
       " ('99.47641723356008', '99.52630385487528', 'T'),\n",
       " ('99.52630385487528', '99.62607709750567', 'EH1'),\n",
       " ('99.62607709750567', '99.69591836734693', 'M'),\n",
       " ('99.69591836734693', '99.74580498866213', 'P'),\n",
       " ('99.74580498866213', '99.87551020408164', 'R'),\n",
       " ('99.87551020408164', '99.91541950113378', 'AH0'),\n",
       " ('99.91541950113378', '99.96530612244898', 'T'),\n",
       " ('99.96530612244898', '100.06507936507937', 'Z'),\n",
       " ('100.06507936507937', '100.31451247165533', 'OW1'),\n",
       " ('100.31451247165533', '100.40430839002268', 'N'),\n",
       " ('100.40430839002268', '100.58390022675736', 'Z'),\n",
       " ('100.58390022675736', '105.20340146031747', 'ns'),\n",
       " ('105.20340136054422', '105.28321995464853', 'sp'),\n",
       " ('105.28321995464853', '108.3662130521542', 'ns'),\n",
       " ('108.36621315192743', '108.49591836734695', 'W'),\n",
       " ('108.49591836734695', '108.56575963718821', 'IY1'),\n",
       " ('108.56575963718821', '108.60566893424037', 'W'),\n",
       " ('108.60566893424037', '108.70544217687075', 'EH1'),\n",
       " ('108.70544217687075', '108.75532879818593', 'L'),\n",
       " ('108.75532879818593', '108.79523809523809', 'K'),\n",
       " ('108.79523809523809', '108.86507936507935', 'AH0'),\n",
       " ('108.86507936507935', '108.91496598639456', 'M'),\n",
       " ('108.91496598639456', '108.94489795918368', 'M'),\n",
       " ('108.94489795918368', '108.98480725623583', 'EH1'),\n",
       " ('108.98480725623583', '109.06462585034014', 'N'),\n",
       " ('109.06462585034014', '109.28412698412698', 'IY0'),\n",
       " ('109.28412698412698', '109.32403628117913', 'N'),\n",
       " ('109.32403628117913', '109.41383219954649', 'Y'),\n",
       " ('109.41383219954649', '109.4437641723356', 'UW1'),\n",
       " ('109.4437641723356', '109.55351473922903', 'S'),\n",
       " ('109.55351473922903', '109.60340136054423', 'T'),\n",
       " ('109.60340136054423', '109.73310657596372', 'UW1'),\n",
       " ('109.73310657596372', '109.78299319727891', 'D'),\n",
       " ('109.78299319727891', '109.8328798185941', 'AH0'),\n",
       " ('109.8328798185941', '109.86281179138321', 'N'),\n",
       " ('109.86281179138321', '109.89274376417232', 'T'),\n",
       " ('109.89274376417232', '109.97256235827663', 'S'),\n",
       " ('109.97256235827663', '110.16213151927438', 'IY1'),\n",
       " ('110.16213151927438', '110.25192743764171', 'CH'),\n",
       " ('110.25192743764171', '110.35170068027212', 'Y'),\n",
       " ('110.35170068027212', '110.50136054421768', 'IH1'),\n",
       " ('110.50136054421768', '110.77074829931973', 'R'),\n",
       " ('110.77074829931973', '119.05192763718821', 'ns'),\n",
       " ('119.05192743764172', '123.31224489795918', 'sp'),\n",
       " ('123.31224489795918', '130.83514739229022', 'ns'),\n",
       " ('130.83514739229022', '130.99478458049884', 'OW1'),\n",
       " ('130.99478458049884', '131.02471655328796', 'N'),\n",
       " ('131.02471655328796', '131.06462585034012', 'L'),\n",
       " ('131.06462585034012', '131.15442176870746', 'IY0'),\n",
       " ('131.15442176870746', '131.20430839002267', 'DH'),\n",
       " ('131.20430839002267', '131.2641723356009', 'AH1'),\n",
       " ('131.2641723356009', '131.3639455782313', 'B'),\n",
       " ('131.3639455782313', '131.48367346938775', 'EH1'),\n",
       " ('131.48367346938775', '131.61337868480726', 'S'),\n",
       " ('131.61337868480726', '131.71315192743762', 'T'),\n",
       " ('131.71315192743762', '131.74308390022674', 'P'),\n",
       " ('131.74308390022674', '131.82290249433106', 'L'),\n",
       " ('131.82290249433106', '131.9426303854875', 'EY1'),\n",
       " ('131.9426303854875', '132.05238095238093', 'ER0'),\n",
       " ('132.05238095238093', '132.16213151927434', 'Z'),\n",
       " ('132.16213151927434', '132.20204081632653', 'AH0'),\n",
       " ('132.20204081632653', '132.3018140589569', 'N'),\n",
       " ('132.3018140589569', '132.40158730158728', 'JH'),\n",
       " ('132.40158730158728', '132.57120181405895', 'OY1'),\n",
       " ('132.57120181405895', '132.63106575963715', 'P'),\n",
       " ('132.63106575963715', '132.7907029478458', 'AA2'),\n",
       " ('132.7907029478458', '132.82063492063492', 'P'),\n",
       " ('132.82063492063492', '132.91043083900223', 'Y'),\n",
       " ('132.91043083900223', '132.94036281179135', 'AH0'),\n",
       " ('132.94036281179135', '133.02018140589567', 'L'),\n",
       " ('133.02018140589567', '133.0800453514739', 'EH1'),\n",
       " ('133.0800453514739', '133.1798185941043', 'R'),\n",
       " ('133.1798185941043', '133.2097505668934', 'AH0'),\n",
       " ('133.2097505668934', '133.24965986394557', 'T'),\n",
       " ('133.24965986394557', '133.45918367346937', 'IY0'),\n",
       " ('133.45918367346937', '135.18526077097502', 'ns'),\n",
       " ('135.18526077097502', '138.76712008163264', 'sp'),\n",
       " ('138.7671201814059', '141.38117903854874', 'ns'),\n",
       " ('141.38117913832198', '141.45102040816323', 'K'),\n",
       " ('141.45102040816323', '141.57074829931972', 'AE1'),\n",
       " ('141.57074829931972', '141.68049886621316', 'L'),\n",
       " ('141.68049886621316', '141.80022675736961', 'S'),\n",
       " ('141.80022675736961', '141.91995464852604', 'IY0'),\n",
       " ('141.91995464852604', '141.94988662131516', 'AH0'),\n",
       " ('141.94988662131516', '142.10952380952378', 'M'),\n",
       " ('142.10952380952378', '142.14943310657594', 'M'),\n",
       " ('142.14943310657594', '142.2392290249433', 'EY1'),\n",
       " ('142.2392290249433', '142.2891156462585', 'K'),\n",
       " ('142.2891156462585', '142.35895691609974', 'S'),\n",
       " ('142.35895691609974', '142.4986394557823', 'B'),\n",
       " ('142.4986394557823', '142.76802721088436', 'OW1'),\n",
       " ('142.76802721088436', '142.84784580498865', 'N'),\n",
       " ('142.84784580498865', '142.92766439909298', 'Z'),\n",
       " ('142.92766439909298', '142.99750566893422', 'AE1'),\n",
       " ('142.99750566893422', '143.11723356009068', 'N'),\n",
       " ('143.11723356009068', '143.1471655328798', 'D'),\n",
       " ('143.1471655328798', '143.17709750566894', 'T'),\n",
       " ('143.17709750566894', '143.39659863945576', 'IY1'),\n",
       " ('143.39659863945576', '143.46643990929704', 'TH'),\n",
       " ('143.46643990929704', '143.65600907029477', 'S'),\n",
       " ('143.65600907029477', '143.6859410430839', 'T'),\n",
       " ('143.6859410430839', '143.8156462585034', 'R'),\n",
       " ('143.8156462585034', '143.97528344671198', 'AO1'),\n",
       " ('143.97528344671198', '144.45419501133787', 'NG'),\n",
       " ('144.45419501133787', '144.81337868480725', 'sp'),\n",
       " ('144.81337868480725', '147.44739239002266', 'ns'),\n",
       " ('147.44739229024944', '149.10362811791381', 'sp'),\n",
       " ('149.10362811791381', '151.30861678004533', 'ns'),\n",
       " ('151.30861678004533', '151.41836734693877', 'N'),\n",
       " ('151.41836734693877', '151.4981859410431', 'AH1'),\n",
       " ('151.4981859410431', '151.59795918367345', 'TH'),\n",
       " ('151.59795918367345', '151.64784580498863', 'IH0'),\n",
       " ('151.64784580498863', '151.7675736961451', 'NG'),\n",
       " ('151.7675736961451', '151.88730158730158', 'IH1'),\n",
       " ('151.88730158730158', '151.9671201814059', 'Z'),\n",
       " ('151.9671201814059', '152.05691609977322', 'EH1'),\n",
       " ('152.05691609977322', '152.1267573696145', 'Z'),\n",
       " ('152.1267573696145', '152.16666666666666', 'AH0'),\n",
       " ('152.16666666666666', '152.26643990929702', 'F'),\n",
       " ('152.26643990929702', '152.34625850340134', 'EH1'),\n",
       " ('152.34625850340134', '152.41609977324262', 'N'),\n",
       " ('152.41609977324262', '152.51587301587298', 'S'),\n",
       " ('152.51587301587298', '152.61564625850338', 'IH0'),\n",
       " ('152.61564625850338', '152.68548752834465', 'V'),\n",
       " ('152.68548752834465', '152.76530612244895', 'EH1'),\n",
       " ('152.76530612244895', '152.86507936507934', 'Z'),\n",
       " ('152.86507936507934', '152.9049886621315', 'IH1'),\n",
       " ('152.9049886621315', '153.024716553288', 'N'),\n",
       " ('153.024716553288', '153.07460317460314', 'AH0'),\n",
       " ('153.07460317460314', '153.21428571428572', 'S'),\n",
       " ('153.21428571428572', '153.25419501133786', 'AH0'),\n",
       " ('153.25419501133786', '153.38390022675736', 'N'),\n",
       " ('153.38390022675736', '153.61337868480723', 'S'),\n",
       " ('153.61337868480723', '154.5113378684807', 'sp'),\n",
       " ('154.5113378684807', '157.69410440816324', 'ns'),\n",
       " ('157.69410430839', '158.97120181405893', 'sp'),\n",
       " ('158.97120181405893', '161.71496598639453', 'ns'),\n",
       " ('161.71496598639453', '161.8646258503401', 'S'),\n",
       " ('161.8646258503401', '161.90453514739227', 'T'),\n",
       " ('161.90453514739227', '162.28367346938774', 'IY1'),\n",
       " ('162.28367346938774', '162.33356009070292', 'V'),\n",
       " ('162.33356009070292', '162.37346938775508', 'W'),\n",
       " ('162.37346938775508', '162.54308390022675', 'AO1'),\n",
       " ('162.54308390022675', '162.6328798185941', 'R'),\n",
       " ('162.6328798185941', '162.6628117913832', 'AH0'),\n",
       " ('162.6628117913832', '162.70272108843537', 'B'),\n",
       " ('162.70272108843537', '162.81247165532878', 'R'),\n",
       " ('162.81247165532878', '162.92222222222222', 'AY1'),\n",
       " ('162.92222222222222', '162.95215419501133', 'T'),\n",
       " ('162.95215419501133', '163.04195011337868', 'R'),\n",
       " ('163.04195011337868', '163.21156462585031', 'EH1'),\n",
       " ('163.21156462585031', '163.34126984126982', 'D'),\n",
       " ('163.34126984126982', '163.38117913832198', 'K'),\n",
       " ('163.38117913832198', '163.55079365079362', 'AE1'),\n",
       " ('163.55079365079362', '163.650566893424', 'ZH'),\n",
       " ('163.650566893424', '163.7204081632653', 'M'),\n",
       " ('163.7204081632653', '163.77029478458047', 'IH0'),\n",
       " ('163.77029478458047', '163.8301587301587', 'R'),\n",
       " ('163.8301587301587', '163.9498866213152', 'S'),\n",
       " ('163.9498866213152', '164.0596371882086', 'W'),\n",
       " ('164.0596371882086', '164.09954648526076', 'EH1'),\n",
       " ('164.09954648526076', '164.1394557823129', 'T'),\n",
       " ('164.1394557823129', '164.34897959183672', 'ER0'),\n",
       " ('164.34897959183672', '165.8954648526077', 'ns'),\n",
       " ('165.8954648526077', '170.71451237188208', 'sp'),\n",
       " ('170.71451247165533', '172.7897958185941', 'ns'),\n",
       " ('172.7897959183673', '172.88956916099772', 'B'),\n",
       " ('172.88956916099772', '173.04920634920634', 'AA1'),\n",
       " ('173.04920634920634', '173.2487528344671', 'R'),\n",
       " ('173.2487528344671', '173.2786848072562', 'B'),\n",
       " ('173.2786848072562', '173.33854875283444', 'Z'),\n",
       " ('173.33854875283444', '173.42834467120178', 'G'),\n",
       " ('173.42834467120178', '173.5380952380952', 'OW1'),\n",
       " ('173.5380952380952', '173.6079365079365', 'L'),\n",
       " ('173.6079365079365', '173.64784580498863', 'D'),\n",
       " ('173.64784580498863', '173.737641723356', 'B'),\n",
       " ('173.737641723356', '173.81746031746027', 'R'),\n",
       " ('173.81746031746027', '173.88730158730158', 'EY1'),\n",
       " ('173.88730158730158', '174.0269841269841', 'S'),\n",
       " ('174.0269841269841', '174.1267573696145', 'L'),\n",
       " ('174.1267573696145', '174.20657596371882', 'AH0'),\n",
       " ('174.20657596371882', '174.23650793650793', 'T'),\n",
       " ('174.23650793650793', '174.26643990929705', 'W'),\n",
       " ('174.26643990929705', '174.29637188208616', 'AH1'),\n",
       " ('174.29637188208616', '174.37619047619046', 'Z'),\n",
       " ('174.37619047619046', '174.4360544217687', 'AH0'),\n",
       " ('174.4360544217687', '174.4859410430839', 'G'),\n",
       " ('174.4859410430839', '174.55578231292515', 'R'),\n",
       " ('174.55578231292515', '174.61564625850338', 'AE2'),\n",
       " ('174.61564625850338', '174.7253968253968', 'JH'),\n",
       " ('174.7253968253968', '174.76530612244898', 'AH0'),\n",
       " ('174.76530612244898', '174.85510204081632', 'W'),\n",
       " ('174.85510204081632', '174.91496598639455', 'EY1'),\n",
       " ('174.91496598639455', '175.04467120181405', 'SH'),\n",
       " ('175.04467120181405', '175.07460317460317', 'AH0'),\n",
       " ('175.07460317460317', '175.2342403628118', 'N'),\n",
       " ('175.2342403628118', '175.2641723356009', 'P'),\n",
       " ('175.2641723356009', '175.33401360544215', 'R'),\n",
       " ('175.33401360544215', '175.39387755102038', 'EH1'),\n",
       " ('175.39387755102038', '175.49365079365077', 'Z'),\n",
       " ('175.49365079365077', '175.54353741496598', 'AH0'),\n",
       " ('175.54353741496598', '175.66326530612244', 'N'),\n",
       " ('175.66326530612244', '176.2219954648526', 'T'),\n",
       " ('176.2219954648526', '176.7607709750567', 'sp'),\n",
       " ('176.7607709750567', '180.91133766893424', 'ns'),\n",
       " ('180.9113378684807', '181.89909297052154', 'sp'),\n",
       " ('181.89909297052154', '184.553061324263', 'ns'),\n",
       " ('184.5530612244898', '185.32652794606457', 'sp'),\n",
       " ('185.32652794606457', '185.5707482993197', 'D'),\n",
       " ('185.5707482993197', '185.7204081632653', 'R'),\n",
       " ('185.7204081632653', '185.89999999999998', 'AO1'),\n",
       " ('185.89999999999998', '186.01972789115646', 'EH1'),\n",
       " ('186.01972789115646', '186.0795918367347', 'V'),\n",
       " ('186.0795918367347', '186.14943310657594', 'R'),\n",
       " ('186.14943310657594', '186.28911564625847', 'IY0'),\n",
       " ('186.28911564625847', '186.4986394557823', 'AW1'),\n",
       " ('186.4986394557823', '186.55850340136053', 'T'),\n",
       " ('186.55850340136053', '186.64829931972787', 'ER0'),\n",
       " ('186.64829931972787', '186.8079365079365', 'L'),\n",
       " ('186.8079365079365', '186.97755102040813', 'AY1'),\n",
       " ('186.97755102040813', '187.0972789115646', 'N'),\n",
       " ('187.0972789115646', '187.2469387755102', 'F'),\n",
       " ('187.2469387755102', '187.49637188208615', 'ER1'),\n",
       " ('187.49637188208615', '187.6360544217687', 'S'),\n",
       " ('187.6360544217687', '187.88548752834467', 'T'),\n",
       " ('187.88548752834467', '188.0551020408163', 'DH'),\n",
       " ('188.0551020408163', '188.25464852607706', 'EH1'),\n",
       " ('188.25464852607706', '188.45419501133784', 'N'),\n",
       " ('188.45419501133784', '188.56394557823126', 'F'),\n",
       " ('188.56394557823126', '188.62380952380948', 'IH1'),\n",
       " ('188.62380952380948', '188.753514739229', 'L'),\n",
       " ('188.753514739229', '188.79342403628118', 'IH1'),\n",
       " ('188.79342403628118', '188.83333333333331', 'N'),\n",
       " ('188.83333333333331', '188.86326530612243', 'DH'),\n",
       " ('188.86326530612243', '188.9829931972789', 'IY0'),\n",
       " ('188.9829931972789', '189.05283446712016', 'IH2'),\n",
       " ('189.05283446712016', '189.10272108843537', 'N'),\n",
       " ('189.10272108843537', '189.18253968253967', 'T'),\n",
       " ('189.18253968253967', '189.32222222222222', 'IH1'),\n",
       " ('189.32222222222222', '189.42199546485259', 'R'),\n",
       " ('189.42199546485259', '189.5517006802721', 'IY0'),\n",
       " ('189.5517006802721', '189.78117913832196', 'ER0'),\n",
       " ('189.78117913832196', '191.13809523809522', 'ns'),\n",
       " ('191.13809523809522', '196.25646268480722', 'sp'),\n",
       " ('196.256462585034', '198.01247165532877', 'ns'),\n",
       " ('198.01247165532877', '198.072335600907', 'DH'),\n",
       " ('198.072335600907', '198.1222222222222', 'AH0'),\n",
       " ('198.1222222222222', '198.27188208616778', 'W'),\n",
       " ('198.27188208616778', '198.39160997732426', 'AO1'),\n",
       " ('198.39160997732426', '198.42154195011338', 'T'),\n",
       " ('198.42154195011338', '198.5412698412698', 'ER0'),\n",
       " ('198.5412698412698', '198.65102040816325', 'K'),\n",
       " ('198.65102040816325', '198.69092970521538', 'AH0'),\n",
       " ('198.69092970521538', '198.81065759637187', 'N'),\n",
       " ('198.81065759637187', '198.8705215419501', 'T'),\n",
       " ('198.8705215419501', '199.01020408163262', 'EY1'),\n",
       " ('199.01020408163262', '199.12993197278908', 'N'),\n",
       " ('199.12993197278908', '199.1798185941043', 'D'),\n",
       " ('199.1798185941043', '199.29954648526075', 'T'),\n",
       " ('199.29954648526075', '199.41927437641723', 'UW1'),\n",
       " ('199.41927437641723', '199.45918367346937', 'M'),\n",
       " ('199.45918367346937', '199.5489795918367', 'AH1'),\n",
       " ('199.5489795918367', '199.5988662131519', 'CH'),\n",
       " ('199.5988662131519', '199.76848072562356', 'K'),\n",
       " ('199.76848072562356', '199.81836734693874', 'L'),\n",
       " ('199.81836734693874', '199.87823129251697', 'AO1'),\n",
       " ('199.87823129251697', '199.97800453514736', 'R'),\n",
       " ('199.97800453514736', '200.16757369614513', 'IY0'),\n",
       " ('200.16757369614513', '200.23741496598637', 'N'),\n",
       " ('200.23741496598637', '200.2972789115646', 'AE1'),\n",
       " ('200.2972789115646', '200.34716553287979', 'N'),\n",
       " ('200.34716553287979', '200.3770975056689', 'D'),\n",
       " ('200.3770975056689', '200.53673469387752', 'S'),\n",
       " ('200.53673469387752', '200.56666666666663', 'T'),\n",
       " ('200.56666666666663', '200.66643990929705', 'AH1'),\n",
       " ('200.66643990929705', '200.7063492063492', 'NG'),\n",
       " ('200.7063492063492', '200.79614512471653', 'HH'),\n",
       " ('200.79614512471653', '200.93582766439906', 'IH1'),\n",
       " ('200.93582766439906', '200.9956916099773', 'Z'),\n",
       " ('200.9956916099773', '201.34489795918364', 'AY1'),\n",
       " ('201.34489795918364', '201.5943310657596', 'Z'),\n",
       " ('201.5943310657596', '206.65283466666665', 'ns'),\n",
       " ('206.6528344671202', '207.72040826303854', 'sp'),\n",
       " ('207.7204081632653', '209.5063492063492', 'ns'),\n",
       " ('209.5063492063492', '209.65600907029477', 'JH'),\n",
       " ('209.65600907029477', '209.86553287981857', 'AA1'),\n",
       " ('209.86553287981857', '209.91541950113375', 'N'),\n",
       " ('209.91541950113375', '210.03514739229024', 'Z'),\n",
       " ('210.03514739229024', '210.1049886621315', 'B'),\n",
       " ('210.1049886621315', '210.20476190476188', 'R'),\n",
       " ('210.20476190476188', '210.2646258503401', 'AH1'),\n",
       " ('210.2646258503401', '210.31451247165532', 'DH'),\n",
       " ('210.31451247165532', '210.48412698412696', 'ER0'),\n",
       " ('210.48412698412696', '210.51405895691607', 'R'),\n",
       " ('210.51405895691607', '210.66371882086165', 'IY0'),\n",
       " ('210.66371882086165', '210.69365079365076', 'P'),\n",
       " ('210.69365079365076', '210.8832199546485', 'EY1'),\n",
       " ('210.8832199546485', '210.96303854875282', 'N'),\n",
       " ('210.96303854875282', '211.00294784580495', 'T'),\n",
       " ('211.00294784580495', '211.09274376417233', 'AH0'),\n",
       " ('211.09274376417233', '211.17256235827662', 'D'),\n",
       " ('211.17256235827662', '211.21247165532878', 'DH'),\n",
       " ('211.21247165532878', '211.29229024943308', 'IY0'),\n",
       " ('211.29229024943308', '211.36213151927436', 'G'),\n",
       " ('211.36213151927436', '211.4519274376417', 'ER0'),\n",
       " ('211.4519274376417', '211.59160997732425', 'AA1'),\n",
       " ('211.59160997732425', '211.72131519274373', 'ZH'),\n",
       " ('211.72131519274373', '211.80113378684806', 'D'),\n",
       " ('211.80113378684806', '211.9907029478458', 'AO1'),\n",
       " ('211.9907029478458', '212.29999999999998', 'R'),\n",
       " ('212.29999999999998', '219.54353761451245', 'sp'),\n",
       " ('219.54353741496595', '222.45691619954647', 'ns'),\n",
       " ('222.45691609977322', '224.85147402267572', 'sp'),\n",
       " ('224.85147392290247', '226.67732426303854', 'ns'),\n",
       " ('226.67732426303854', '226.83696145124716', 'CH'),\n",
       " ('226.83696145124716', '226.88684807256232', 'AE1'),\n",
       " ('226.88684807256232', '227.03650793650792', 'L'),\n",
       " ('227.03650793650792', '227.06643990929703', 'AH0'),\n",
       " ('227.06643990929703', '227.13628117913828', 'N'),\n",
       " ('227.13628117913828', '227.25600907029477', 'JH'),\n",
       " ('227.25600907029477', '227.27596371882083', 'sp'),\n",
       " ('227.27596371882083', '227.46553287981857', 'IY1'),\n",
       " ('227.46553287981857', '227.6251700680272', 'CH'),\n",
       " ('227.6251700680272', '227.74489795918365', 'JH'),\n",
       " ('227.74489795918365', '227.79478458049886', 'EH1'),\n",
       " ('227.79478458049886', '227.85464852607709', 'N'),\n",
       " ('227.85464852607709', '228.02426303854872', 'R'),\n",
       " ('228.02426303854872', '228.05419501133784', 'AH0'),\n",
       " ('228.05419501133784', '228.18390022675734', 'L'),\n",
       " ('228.18390022675734', '228.25374149659862', 'Z'),\n",
       " ('228.25374149659862', '228.31360544217685', 'IH2'),\n",
       " ('228.31360544217685', '228.4034013605442', 'N'),\n",
       " ('228.4034013605442', '228.4532879818594', 'T'),\n",
       " ('228.4532879818594', '228.55306122448977', 'EH1'),\n",
       " ('228.55306122448977', '228.68276643990927', 'L'),\n",
       " ('228.68276643990927', '228.7126984126984', 'AH0'),\n",
       " ('228.7126984126984', '228.81247165532878', 'JH'),\n",
       " ('228.81247165532878', '228.8424036281179', 'AH0'),\n",
       " ('228.8424036281179', '228.96213151927435', 'N'),\n",
       " ('228.96213151927435', '229.17165532879818', 'S'),\n",
       " ('229.17165532879818', '233.3222220226757', 'ns'),\n",
       " ('233.3222222222222', '234.41972789115644', 'sp'),\n",
       " ('234.41972789115644', '237.69229024943309', 'ns'),\n",
       " ('237.69229024943309', '237.76213151927433', 'AE2'),\n",
       " ('237.76213151927433', '237.79206349206348', 'M'),\n",
       " ('237.79206349206348', '237.8519274376417', 'B'),\n",
       " ('237.8519274376417', '237.89183673469384', 'AH0'),\n",
       " ('237.89183673469384', '237.99160997732426', 'D'),\n",
       " ('237.99160997732426', '238.0814058956916', 'EH1'),\n",
       " ('238.0814058956916', '238.15124716553288', 'K'),\n",
       " ('238.15124716553288', '238.2111111111111', 'S'),\n",
       " ('238.2111111111111', '238.27097505668934', 'T'),\n",
       " ('238.27097505668934', '238.33083900226757', 'R'),\n",
       " ('238.33083900226757', '238.36077097505665', 'AH0'),\n",
       " ('238.36077097505665', '238.4705215419501', 'S'),\n",
       " ('238.4705215419501', '238.54036281179137', 'P'),\n",
       " ('238.54036281179137', '238.64013605442173', 'IH1'),\n",
       " ('238.64013605442173', '238.69999999999996', 'K'),\n",
       " ('238.69999999999996', '238.76984126984127', 'P'),\n",
       " ('238.76984126984127', '238.92947845804989', 'AA2'),\n",
       " ('238.92947845804989', '239.00929705215415', 'K'),\n",
       " ('239.00929705215415', '239.08911564625848', 'AH0'),\n",
       " ('239.08911564625848', '239.12902494331064', 'T'),\n",
       " ('239.12902494331064', '239.2487528344671', 'S'),\n",
       " ('239.2487528344671', '239.31859410430837', 'AH0'),\n",
       " ('239.31859410430837', '239.36848072562356', 'K'),\n",
       " ('239.36848072562356', '239.52811791383218', 'AA1'),\n",
       " ('239.52811791383218', '239.5879818594104', 'M'),\n",
       " ('239.5879818594104', '239.62789115646257', 'P'),\n",
       " ('239.62789115646257', '239.69773242630382', 'L'),\n",
       " ('239.69773242630382', '239.737641723356', 'IH0'),\n",
       " ('239.737641723356', '239.84739229024942', 'SH'),\n",
       " ('239.84739229024942', '239.997052154195', 'M'),\n",
       " ('239.997052154195', '240.21655328798184', 'AO1'),\n",
       " ('240.21655328798184', '240.37619047619046', 'R'),\n",
       " ('240.37619047619046', '241.05464852607707', 'ns'),\n",
       " ('241.05464852607707', '242.61111101133787', 'sp'),\n",
       " ('242.6111111111111', '251.03197239002264', 'ns'),\n",
       " ('251.03197278911563', '251.11179138321992', 'AH0'),\n",
       " ('251.11179138321992', '251.24149659863946', 'M'),\n",
       " ('251.24149659863946', '251.3113378684807', 'AH1'),\n",
       " ('251.3113378684807', '251.4410430839002', 'S'),\n",
       " ('251.4410430839002', '251.50090702947844', 'K'),\n",
       " ('251.50090702947844', '251.60068027210883', 'Y'),\n",
       " ('251.60068027210883', '251.63061224489795', 'AH0'),\n",
       " ('251.63061224489795', '251.69047619047618', 'L'),\n",
       " ('251.69047619047618', '251.74036281179139', 'ER0'),\n",
       " ('251.74036281179139', '251.96984126984125', 'AE1'),\n",
       " ('251.96984126984125', '252.01972789115646', 'B'),\n",
       " ('252.01972789115646', '252.0895691609977', 'D'),\n",
       " ('252.0895691609977', '252.12947845804987', 'AH0'),\n",
       " ('252.12947845804987', '252.159410430839', 'M'),\n",
       " ('252.159410430839', '252.20929705215417', 'AH0'),\n",
       " ('252.20929705215417', '252.2392290249433', 'N'),\n",
       " ('252.2392290249433', '252.5185941043084', 'IH1'),\n",
       " ('252.5185941043084', '252.6283446712018', 'Z'),\n",
       " ('252.6283446712018', '252.67823129251698', 'G'),\n",
       " ('252.67823129251698', '252.75804988662128', 'UH1'),\n",
       " ('252.75804988662128', '252.86780045351472', 'D'),\n",
       " ('252.86780045351472', '252.937641723356', 'F'),\n",
       " ('252.937641723356', '252.97755102040813', 'ER0'),\n",
       " ('252.97755102040813', '253.06734693877547', 'Y'),\n",
       " ('253.06734693877547', '253.09727891156462', 'UH1'),\n",
       " ('253.09727891156462', '253.13718820861675', 'R'),\n",
       " ('253.13718820861675', '253.20702947845803', 'B'),\n",
       " ('253.20702947845803', '253.42653061224487', 'AE1'),\n",
       " ('253.42653061224487', '253.715873015873', 'K'),\n",
       " ('253.715873015873', '254.28458049886618', 'sp'),\n",
       " ('254.28458049886618', '256.94852617687076', 'ns'),\n",
       " ('256.9485260770975', '259.9716553287982', 'sp'),\n",
       " ('259.9716553287982', '262.53582756462583', 'ns'),\n",
       " ('262.53582766439905', '262.63560090702947', 'DH'),\n",
       " ('262.63560090702947', '262.8451247165533', 'EY1'),\n",
       " ('262.8451247165533', '263.044671201814', 'OW1'),\n",
       " ('263.044671201814', '263.0845804988662', 'N'),\n",
       " ('263.0845804988662', '263.14444444444445', 'EY1'),\n",
       " ('263.14444444444445', '263.2541950113378', 'B'),\n",
       " ('263.2541950113378', '263.38390022675736', 'IH1'),\n",
       " ('263.38390022675736', '263.44376417233553', 'G'),\n",
       " ('263.44376417233553', '263.4736961451247', 'HH'),\n",
       " ('263.4736961451247', '263.7730158730159', 'AW1'),\n",
       " ('263.7730158730159', '263.93265306122447', 'S'),\n",
       " ('263.93265306122447', '264.03242630385483', 'AH0'),\n",
       " ('264.03242630385483', '264.15215419501135', 'N'),\n",
       " ('264.15215419501135', '264.18208616780043', 'DH'),\n",
       " ('264.18208616780043', '264.26190476190476', 'AH0'),\n",
       " ('264.26190476190476', '264.4414965986394', 'R'),\n",
       " ('264.4414965986394', '264.47142857142853', 'AH0'),\n",
       " ('264.47142857142853', '264.5113378684807', 'M'),\n",
       " ('264.5113378684807', '264.66099773242627', 'OW1'),\n",
       " ('264.66099773242627', '264.77074829931973', 'T'),\n",
       " ('264.77074829931973', '264.8705215419501', 'K'),\n",
       " ('264.8705215419501', '264.99024943310656', 'AH1'),\n",
       " ('264.99024943310656', '265.0501133786848', 'N'),\n",
       " ('265.0501133786848', '265.09999999999997', 'T'),\n",
       " ('265.09999999999997', '265.16984126984124', 'R'),\n",
       " ('265.16984126984124', '265.2496598639455', 'IY0'),\n",
       " ('265.2496598639455', '265.3793650793651', 'S'),\n",
       " ('265.3793650793651', '265.5689342403628', 'AY2'),\n",
       " ('265.5689342403628', '265.7884353741496', 'D'),\n",
       " ('265.7884353741496', '269.6795919365079', 'ns'),\n",
       " ('269.67959183673463', '271.4954649523809', 'sp'),\n",
       " ('271.4954648526077', '273.2913832199546', 'ns'),\n",
       " ('273.2913832199546', '273.4111111111111', 'DH'),\n",
       " ('273.4111111111111', '273.4709750566893', 'AH1'),\n",
       " ('273.4709750566893', '273.6206349206349', 'R'),\n",
       " ('273.6206349206349', '273.8002267573696', 'OW1'),\n",
       " ('273.8002267573696', '273.919954648526', 'Z'),\n",
       " ('273.919954648526', '273.94988662131516', 'K'),\n",
       " ('273.94988662131516', '273.97981859410424', 'AO0'),\n",
       " ('273.97981859410424', '274.0895691609977', 'R'),\n",
       " ('274.0895691609977', '274.2192743764172', 'S'),\n",
       " ('274.2192743764172', '274.4986394557823', 'AA1'),\n",
       " ('274.4986394557823', '274.6582766439909', 'ZH'),\n",
       " ('274.6582766439909', '274.68820861678006', 'sp'),\n",
       " ('274.68820861678006', '274.91768707482987', 'S'),\n",
       " ('274.91768707482987', '275.0174603174603', 'M'),\n",
       " ('275.0174603174603', '275.0573696145125', 'EH1'),\n",
       " ('275.0573696145125', '275.207029478458', 'L'),\n",
       " ('275.207029478458', '275.23696145124717', 'D'),\n",
       " ('275.23696145124717', '275.4265306122449', 'S'),\n",
       " ('275.4265306122449', '275.48639455782313', 'W'),\n",
       " ('275.48639455782313', '275.70589569160995', 'IY1'),\n",
       " ('275.70589569160995', '276.0850340136054', 'T'),\n",
       " ('276.0850340136054', '276.49410430839004', 'sp'),\n",
       " ('276.49410430839004', '278.49954648526074', 'ns'),\n",
       " ('278.49954648526074', '279.8963718820861', 'sp'),\n",
       " ('279.8963718820861', '282.9195011337868', 'ns'),\n",
       " ('282.9195011337868', '283.0292517006803', 'DH'),\n",
       " ('283.0292517006803', '283.2088435374149', 'AE1'),\n",
       " ('283.2088435374149', '283.2986394557823', 'T'),\n",
       " ('283.2986394557823', '283.32857142857137', 'P'),\n",
       " ('283.32857142857137', '283.4283446712018', 'IH1'),\n",
       " ('283.4283446712018', '283.5081632653061', 'K'),\n",
       " ('283.5081632653061', '283.54807256235824', 'P'),\n",
       " ('283.54807256235824', '283.70770975056683', 'AA2'),\n",
       " ('283.70770975056683', '283.7575963718821', 'K'),\n",
       " ('283.7575963718821', '283.8673469387755', 'AH0'),\n",
       " ('283.8673469387755', '283.89727891156457', 'T'),\n",
       " ('283.89727891156457', '283.9571428571428', 'W'),\n",
       " ('283.9571428571428', '283.997052154195', 'AH0'),\n",
       " ('283.997052154195', '284.07687074829926', 'Z'),\n",
       " ('284.07687074829926', '284.1267573696145', 'K'),\n",
       " ('284.1267573696145', '284.35623582766436', 'AA1'),\n",
       " ('284.35623582766436', '284.38616780045345', 'T'),\n",
       " ('284.38616780045345', '284.4959183673469', 'R'),\n",
       " ('284.4959183673469', '284.59569160997734', 'EH1'),\n",
       " ('284.59569160997734', '284.6256235827664', 'D'),\n",
       " ('284.6256235827664', '284.72539682539684', 'HH'),\n",
       " ('284.72539682539684', '284.83514739229025', 'AE1'),\n",
       " ('284.83514739229025', '284.8950113378684', 'N'),\n",
       " ('284.8950113378684', '284.9748299319728', 'D'),\n",
       " ('284.9748299319728', '285.024716553288', 'AH0'),\n",
       " ('285.024716553288', '285.284126984127', 'D'),\n",
       " ('285.284126984127', '287.04013605442174', 'sp'),\n",
       " ('287.04013605442174', '290.87142847165535', 'ns'),\n",
       " ('290.8714285714285', '291.6596371882086', 'sp'),\n",
       " ('291.6596371882086', '295.82018150566887', 'ns'),\n",
       " ('295.8201814058957', '295.89002267573693', 'AE1'),\n",
       " ('295.89002267573693', '295.919954648526', 'N'),\n",
       " ('295.919954648526', '296.00975056689344', 'AE1'),\n",
       " ('296.00975056689344', '296.159410430839', 'D'),\n",
       " ('296.159410430839', '296.1993197278911', 'AH0'),\n",
       " ('296.1993197278911', '296.3589569160997', 'L'),\n",
       " ('296.3589569160997', '296.38888888888886', 'T'),\n",
       " ('296.38888888888886', '296.5086167800454', 'M'),\n",
       " ('296.5086167800454', '296.5984126984127', 'EY1'),\n",
       " ('296.5984126984127', '296.72811791383214', 'L'),\n",
       " ('296.72811791383214', '296.7979591836734', 'B'),\n",
       " ('296.7979591836734', '296.947619047619', 'AH0'),\n",
       " ('296.947619047619', '296.99750566893425', 'B'),\n",
       " ('296.99750566893425', '297.187074829932', 'UW1'),\n",
       " ('297.187074829932', '297.2170068027211', 'N'),\n",
       " ('297.2170068027211', '297.30680272108845', 'Z'),\n",
       " ('297.30680272108845', '297.4165532879818', 'T'),\n",
       " ('297.4165532879818', '297.6360544217687', 'IY1'),\n",
       " ('297.6360544217687', '297.70589569160995', 'TH'),\n",
       " ('297.70589569160995', '297.8156462585034', 'AA1'),\n",
       " ('297.8156462585034', '297.88548752834464', 'R'),\n",
       " ('297.88548752834464', '297.9353741496599', 'N'),\n",
       " ('297.9353741496599', '298.0850340136054', 'AA1'),\n",
       " ('298.0850340136054', '298.1249433106576', 'T'),\n",
       " ('298.1249433106576', '298.25464852607706', 'S'),\n",
       " ('298.25464852607706', '298.3743764172336', 'UW1'),\n",
       " ('298.3743764172336', '298.41428571428565', 'T'),\n",
       " ('298.41428571428565', '298.45419501133784', 'AH0'),\n",
       " ('298.45419501133784', '298.504081632653', 'B'),\n",
       " ('298.504081632653', '298.54399092970516', 'AH0'),\n",
       " ('298.54399092970516', '298.71360544217686', 'L'),\n",
       " ('298.71360544217686', '298.76349206349204', 'F'),\n",
       " ('298.76349206349204', '298.8133786848073', 'ER0'),\n",
       " ('298.8133786848073', '299.0827664399093', 'IY1'),\n",
       " ('299.0827664399093', '299.11269841269836', 'T'),\n",
       " ('299.11269841269836', '299.1426303854875', 'IH0'),\n",
       " ('299.1426303854875', '299.1725623582766', 'NG'),\n",
       " ('299.1725623582766', '299.33219954648524', 'SH'),\n",
       " ('299.33219954648524', '299.3820861678004', 'EH1'),\n",
       " ('299.3820861678004', '299.4818594104308', 'L'),\n",
       " ('299.4818594104308', '299.57165532879816', 'F'),\n",
       " ('299.57165532879816', '299.7113378684807', 'IH2'),\n",
       " ('299.7113378684807', '299.9308390022676', 'SH'),\n",
       " ('299.9308390022676', '305.4283448707483', 'ns'),\n",
       " ('305.4283446712018', '308.79070284807256', 'sp'),\n",
       " ('308.7907029478458', '309.0700680272109', 'ns'),\n",
       " ('309.0700680272109', '310.61360171340965', 'sp'),\n",
       " ('310.61360171340965', '310.71632653061226', 'HH'),\n",
       " ('310.71632653061226', '310.8659863945578', 'ER1'),\n",
       " ('310.8659863945578', '311.0056689342403', 'W'),\n",
       " ('311.0056689342403', '311.0755102040816', 'AO1'),\n",
       " ('311.0755102040816', '311.3049886621315', 'R'),\n",
       " ('311.3049886621315', '311.3349206349206', 'D'),\n",
       " ('311.3349206349206', '311.3748299319728', 'R'),\n",
       " ('311.3748299319728', '311.4047619047619', 'OW2'),\n",
       " ('311.4047619047619', '311.434693877551', 'B'),\n",
       " ('311.434693877551', '311.47460317460315', 'K'),\n",
       " ('311.47460317460315', '311.50453514739223', 'AH0'),\n",
       " ('311.50453514739223', '311.59433106575966', 'N'),\n",
       " ('311.59433106575966', '311.7439909297052', 'S'),\n",
       " ('311.7439909297052', '311.8337868480725', 'IH1'),\n",
       " ('311.8337868480725', '312.0532879818594', 'S'),\n",
       " ('312.0532879818594', '312.1131519274376', 'AH1'),\n",
       " ('312.1131519274376', '312.1630385487528', 'V'),\n",
       " ('312.1630385487528', '312.35260770975054', 'OW1'),\n",
       " ('312.35260770975054', '312.38253968253963', 'N'),\n",
       " ('312.38253968253963', '312.4124716553288', 'L'),\n",
       " ('312.4124716553288', '312.48231292517005', 'IY0'),\n",
       " ('312.48231292517005', '312.6020408163265', 'S'),\n",
       " ('312.6020408163265', '312.6718820861678', 'K'),\n",
       " ('312.6718820861678', '312.79160997732424', 'ER1'),\n",
       " ('312.79160997732424', '312.8614512471655', 'T'),\n",
       " ('312.8614512471655', '312.92131519274375', 'S'),\n",
       " ('312.92131519274375', '312.991156462585', 'AE1'),\n",
       " ('312.991156462585', '313.03106575963716', 'N'),\n",
       " ('313.03106575963716', '313.06099773242624', 'D'),\n",
       " ('313.06099773242624', '313.1308390022675', 'B'),\n",
       " ('313.1308390022675', '313.23061224489794', 'L'),\n",
       " ('313.23061224489794', '313.32040816326526', 'AW1'),\n",
       " ('313.32040816326526', '313.47006802721086', 'S'),\n",
       " ('313.47006802721086', '313.5598639455782', 'AH0'),\n",
       " ('313.5598639455782', '313.90907029478456', 'Z'),\n",
       " ('313.90907029478456', '317.2913833197279', 'ns'),\n",
       " ('317.29138321995464', '318.2691609977324', 'sp'),\n",
       " ('318.2691609977324', '322.38979601814054', 'ns'),\n",
       " ('322.3897959183673', '322.43968253968256', 'DH'),\n",
       " ('322.43968253968256', '322.4895691609977', 'AH1'),\n",
       " ('322.4895691609977', '322.68911564625853', 'T'),\n",
       " ('322.68911564625853', '322.9285714285714', 'UW1'),\n",
       " ('322.9285714285714', '323.04829931972785', 'AA1'),\n",
       " ('323.04829931972785', '323.1181405895691', 'R'),\n",
       " ('323.1181405895691', '323.27777777777777', 'T'),\n",
       " ('323.27777777777777', '323.32766439909295', 'AH0'),\n",
       " ('323.32766439909295', '323.49727891156465', 'S'),\n",
       " ('323.49727891156465', '323.56712018140587', 'IH0'),\n",
       " ('323.56712018140587', '323.61700680272105', 'K'),\n",
       " ('323.61700680272105', '323.7467120181406', 'S'),\n",
       " ('323.7467120181406', '323.81655328798183', 'CH'),\n",
       " ('323.81655328798183', '324.02607709750566', 'EY1'),\n",
       " ('324.02607709750566', '324.0959183673469', 'N'),\n",
       " ('324.0959183673469', '324.16575963718816', 'JH'),\n",
       " ('324.16575963718816', '324.2655328798186', 'D'),\n",
       " ('324.2655328798186', '324.42517006802717', 'AO1'),\n",
       " ('324.42517006802717', '324.46507936507936', 'T'),\n",
       " ('324.46507936507936', '324.51496598639454', 'AH0'),\n",
       " ('324.51496598639454', '324.5648526077097', 'G'),\n",
       " ('324.5648526077097', '324.6546485260771', 'R'),\n",
       " ('324.6546485260771', '324.80430839002264', 'AE2'),\n",
       " ('324.80430839002264', '324.8741496598639', 'F'),\n",
       " ('324.8741496598639', '325.13356009070293', 'S'),\n",
       " ('325.13356009070293', '327.3784580498866', 'ns'),\n",
       " ('327.3784580498866', '332.0378685804988', 'sp'),\n",
       " ('332.0378684807256', '334.4723357006802', 'ns'),\n",
       " ('334.47233560090706', '334.5222222222222', 'B'),\n",
       " ('334.5222222222222', '334.6219954648526', 'AH1'),\n",
       " ('334.6219954648526', '334.66190476190474', 'T'),\n",
       " ('334.66190476190474', '334.7117913832199', 'ER0'),\n",
       " ('334.7117913832199', '334.8315192743764', 'S'),\n",
       " ('334.8315192743764', '334.87142857142857', 'K'),\n",
       " ('334.87142857142857', '335.03106575963716', 'AA2'),\n",
       " ('335.03106575963716', '335.1707482993197', 'CH'),\n",
       " ('335.1707482993197', '335.31043083900227', 'F'),\n",
       " ('335.31043083900227', '335.509977324263', 'AH1'),\n",
       " ('335.509977324263', '335.6895691609977', 'JH'),\n",
       " ('335.6895691609977', '335.8192743764172', 'G'),\n",
       " ('335.8192743764172', '335.92902494331065', 'OW1'),\n",
       " ('335.92902494331065', '336.0487528344671', 'Z'),\n",
       " ('336.0487528344671', '336.1285714285714', 'W'),\n",
       " ('336.1285714285714', '336.2083900226757', 'EH1'),\n",
       " ('336.2083900226757', '336.37800453514734', 'L'),\n",
       " ('336.37800453514734', '336.43786848072557', 'W'),\n",
       " ('336.43786848072557', '336.46780045351477', 'IH1'),\n",
       " ('336.46780045351477', '336.5575963718821', 'TH'),\n",
       " ('336.5575963718821', '336.6473922902494', 'V'),\n",
       " ('336.6473922902494', '336.6972789115646', 'AH0'),\n",
       " ('336.6972789115646', '336.7770975056689', 'N'),\n",
       " ('336.7770975056689', '336.80702947845805', 'IH1'),\n",
       " ('336.80702947845805', '336.89682539682536', 'L'),\n",
       " ('336.89682539682536', '336.9267573696145', 'AH0'),\n",
       " ('336.9267573696145', '337.1961451247165', 'AY1'),\n",
       " ('337.1961451247165', '337.30589569161', 'S'),\n",
       " ('337.30589569161', '337.40566893424034', 'K'),\n",
       " ('337.40566893424034', '337.48548752834466', 'R'),\n",
       " ('337.48548752834466', '337.585260770975', 'IY1'),\n",
       " ('337.585260770975', '337.8147392290249', 'M'),\n",
       " ('337.8147392290249', '339.6705215419501', 'ns'),\n",
       " ('339.6705215419501', '343.0129250702948', 'sp'),\n",
       " ('343.012925170068', '346.07596361904757', 'ns'),\n",
       " ('346.07596371882084', '346.23560090702944', 'R'),\n",
       " ('346.23560090702944', '346.3553287981859', 'IH1'),\n",
       " ('346.3553287981859', '346.5049886621315', 'CH'),\n",
       " ('346.5049886621315', '346.60476190476186', 'P'),\n",
       " ('346.60476190476186', '346.7643990929705', 'ER1'),\n",
       " ('346.7643990929705', '346.90408163265306', 'CH'),\n",
       " ('346.90408163265306', '346.95396825396824', 'AH0'),\n",
       " ('346.95396825396824', '347.0537414965986', 'S'),\n",
       " ('347.0537414965986', '347.08367346938775', 'T'),\n",
       " ('347.08367346938775', '347.24331065759634', 'S'),\n",
       " ('347.24331065759634', '347.32312925170066', 'EH1'),\n",
       " ('347.32312925170066', '347.402947845805', 'V'),\n",
       " ('347.402947845805', '347.4927437641723', 'R'),\n",
       " ('347.4927437641723', '347.52267573696145', 'AH0'),\n",
       " ('347.52267573696145', '347.5725623582766', 'L'),\n",
       " ('347.5725623582766', '347.68231292517004', 'S'),\n",
       " ('347.68231292517004', '347.8619047619047', 'AY1'),\n",
       " ('347.8619047619047', '347.92176870748295', 'N'),\n",
       " ('347.92176870748295', '347.96167800453514', 'D'),\n",
       " ('347.96167800453514', '348.07142857142856', 'L'),\n",
       " ('348.07142857142856', '348.12131519274374', 'IH1'),\n",
       " ('348.12131519274374', '348.18117913832197', 'TH'),\n",
       " ('348.18117913832197', '348.2609977324263', 'AH0'),\n",
       " ('348.2609977324263', '348.3009070294784', 'G'),\n",
       " ('348.3009070294784', '348.41065759637183', 'R'),\n",
       " ('348.41065759637183', '348.5702947845805', 'AE2'),\n",
       " ('348.5702947845805', '348.60022675736957', 'F'),\n",
       " ('348.60022675736957', '348.8596371882086', 'S'),\n",
       " ('348.8596371882086', '352.33174603174604', 'sp'),\n",
       " ('352.33174603174604', '358.028798185941', 'ns'),\n",
       " ('358.028798185941', '358.8768707482993', 'sp'),\n",
       " ('358.8768707482993', '367.55714265759633', 'ns'),\n",
       " ('367.5571428571428', '367.6968253968254', 'EH1'),\n",
       " ('367.6968253968254', '367.7267573696145', 'N'),\n",
       " ('367.7267573696145', '367.96621315192743', 'IY0'),\n",
       " ('367.96621315192743', '367.9961451247165', 'K'),\n",
       " ('367.9961451247165', '368.0460317460317', 'AA2'),\n",
       " ('368.0460317460317', '368.125850340136', 'N'),\n",
       " ('368.125850340136', '368.1757369614512', 'T'),\n",
       " ('368.1757369614512', '368.2156462585034', 'R'),\n",
       " ('368.2156462585034', '368.2854875283447', 'AH0'),\n",
       " ('368.2854875283447', '368.31541950113376', 'B'),\n",
       " ('368.31541950113376', '368.4151927437642', 'Y'),\n",
       " ('368.4151927437642', '368.45510204081626', 'UW1'),\n",
       " ('368.45510204081626', '368.54489795918363', 'SH'),\n",
       " ('368.54489795918363', '368.5748299319727', 'AH0'),\n",
       " ('368.5748299319727', '368.69455782312923', 'N'),\n",
       " ('368.69455782312923', '368.77437641723355', 'Z'),\n",
       " ('368.77437641723355', '368.8142857142857', 'W'),\n",
       " ('368.8142857142857', '368.84421768707483', 'AH0'),\n",
       " ('368.84421768707483', '368.93401360544215', 'L'),\n",
       " ('368.93401360544215', '368.97392290249434', 'B'),\n",
       " ('368.97392290249434', '369.0537414965986', 'IY1'),\n",
       " ('369.0537414965986', '369.13356009070293', 'G'),\n",
       " ('369.13356009070293', '369.2233560090703', 'R'),\n",
       " ('369.2233560090703', '369.2732426303855', 'EY1'),\n",
       " ('369.2732426303855', '369.30317460317457', 'T'),\n",
       " ('369.30317460317457', '369.39297052154194', 'L'),\n",
       " ('369.39297052154194', '369.48276643990926', 'IY0'),\n",
       " ('369.48276643990926', '369.5426303854875', 'AH0'),\n",
       " ('369.5426303854875', '369.6024943310657', 'P'),\n",
       " ('369.6024943310657', '369.68231292517004', 'R'),\n",
       " ('369.68231292517004', '369.7521541950113', 'IY1'),\n",
       " ('369.7521541950113', '369.8519274376417', 'SH'),\n",
       " ('369.8519274376417', '369.9716553287982', 'IY0'),\n",
       " ('369.9716553287982', '370.0614512471655', 'EY2'),\n",
       " ...]"
      ]
     },
     "execution_count": 49,
     "metadata": {},
     "output_type": "execute_result"
    }
   ],
   "source": [
    "# Using the tiers, we can get transcriptions\n",
    "tg.tiers[0].simple_transcript # get a transcript of the 0th tier"
   ]
  },
  {
   "cell_type": "code",
   "execution_count": 50,
   "metadata": {},
   "outputs": [],
   "source": [
    "# And we can save it to a list, simple as that!\n",
    "phoneme_transcript = tg.tiers[0].simple_transcript"
   ]
  },
  {
   "cell_type": "markdown",
   "metadata": {},
   "source": [
    "Okay, that was a lot of information to cover! Please try to work through this before our meeting, preferrably in Jupyter Notebook so you can mess around with the variables and functions yourselves. And as always, please reach out through Slack if you are having any problems!\n",
    "\n",
    "-Garret Kurteff, Feb 2021"
   ]
  }
 ],
 "metadata": {
  "kernelspec": {
   "display_name": "Python 3",
   "language": "python",
   "name": "python3"
  },
  "language_info": {
   "codemirror_mode": {
    "name": "ipython",
    "version": 3
   },
   "file_extension": ".py",
   "mimetype": "text/x-python",
   "name": "python",
   "nbconvert_exporter": "python",
   "pygments_lexer": "ipython3",
   "version": "3.8.5"
  }
 },
 "nbformat": 4,
 "nbformat_minor": 4
}
